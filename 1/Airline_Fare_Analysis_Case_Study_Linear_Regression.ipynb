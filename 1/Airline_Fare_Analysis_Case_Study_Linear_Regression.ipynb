{
 "cells": [
  {
   "cell_type": "markdown",
   "metadata": {
    "colab_type": "text",
    "id": "3WO3U0XxQ25z"
   },
   "source": [
    "# Description: \n",
    "Airfares and passengers for U.S. Domestic Routes\n",
    "for 4th Quarter of 2002."
   ]
  },
  {
   "cell_type": "markdown",
   "metadata": {},
   "source": [
    "# Variables/Columns\n",
    "\n",
    "City1   1-3\n",
    "\n",
    "City2   5-7\n",
    "\n",
    "Average Fare    11-17\n",
    "\n",
    "Distance      20-23\n",
    "\n",
    "Average weekly passengers   26-33\n",
    "\n",
    "market leading airline    36-37\n",
    "\n",
    "market share     40-45\n",
    "\n",
    "Average fare    48-54\n",
    "\n",
    "Low price airline   57-58\n",
    "\n",
    "market share    61-66\n",
    "\n",
    "price     69-75"
   ]
  },
  {
   "cell_type": "markdown",
   "metadata": {},
   "source": [
    "# Source: \n",
    "U.S. Department of Transportation"
   ]
  },
  {
   "cell_type": "markdown",
   "metadata": {},
   "source": [
    "# 1. Reading Source File and Checking Data"
   ]
  },
  {
   "cell_type": "code",
   "execution_count": 1,
   "metadata": {
    "colab": {},
    "colab_type": "code",
    "id": "7Do5bgnVQ250"
   },
   "outputs": [],
   "source": [
    "import pandas as pd\n",
    "import numpy as np\n",
    "import matplotlib.pyplot as plt\n",
    "import seaborn as sns\n",
    "\n"
   ]
  },
  {
   "cell_type": "code",
   "execution_count": 2,
   "metadata": {
    "colab": {},
    "colab_type": "code",
    "id": "r37Tkap0Q254"
   },
   "outputs": [],
   "source": [
    "#reading source file\n",
    "file=pd.read_csv(\"http://users.stat.ufl.edu/~winner/data/airq402.dat\", sep='\\s+'  , engine='python')"
   ]
  },
  {
   "cell_type": "code",
   "execution_count": 3,
   "metadata": {
    "colab": {},
    "colab_type": "code",
    "id": "YjfByevAQ259"
   },
   "outputs": [],
   "source": [
    "# Adding colunm names as mentioned in data file\n",
    "file.columns = ['City1', 'City2', 'Average Flight Fare', 'Distance','Average Weekly Passengers','Market Leading Airline (MLA)',\n",
    "               'Market Share MLA', 'Average MLA Fare', 'Low Price Airline (LPA)', 'Market Share LPA', 'Average LPA Fare']"
   ]
  },
  {
   "cell_type": "code",
   "execution_count": 4,
   "metadata": {
    "colab": {},
    "colab_type": "code",
    "id": "_z1rt19yQ26A",
    "outputId": "4c5e02c0-6d03-44fb-fde3-9a024a2f5f78"
   },
   "outputs": [
    {
     "data": {
      "text/html": [
       "<div>\n",
       "<style scoped>\n",
       "    .dataframe tbody tr th:only-of-type {\n",
       "        vertical-align: middle;\n",
       "    }\n",
       "\n",
       "    .dataframe tbody tr th {\n",
       "        vertical-align: top;\n",
       "    }\n",
       "\n",
       "    .dataframe thead th {\n",
       "        text-align: right;\n",
       "    }\n",
       "</style>\n",
       "<table border=\"1\" class=\"dataframe\">\n",
       "  <thead>\n",
       "    <tr style=\"text-align: right;\">\n",
       "      <th></th>\n",
       "      <th>City1</th>\n",
       "      <th>City2</th>\n",
       "      <th>Average Flight Fare</th>\n",
       "      <th>Distance</th>\n",
       "      <th>Average Weekly Passengers</th>\n",
       "      <th>Market Leading Airline (MLA)</th>\n",
       "      <th>Market Share MLA</th>\n",
       "      <th>Average MLA Fare</th>\n",
       "      <th>Low Price Airline (LPA)</th>\n",
       "      <th>Market Share LPA</th>\n",
       "      <th>Average LPA Fare</th>\n",
       "    </tr>\n",
       "  </thead>\n",
       "  <tbody>\n",
       "    <tr>\n",
       "      <th>0</th>\n",
       "      <td>CAK</td>\n",
       "      <td>MCO</td>\n",
       "      <td>122.47</td>\n",
       "      <td>860</td>\n",
       "      <td>276.84</td>\n",
       "      <td>FL</td>\n",
       "      <td>75.10</td>\n",
       "      <td>123.09</td>\n",
       "      <td>DL</td>\n",
       "      <td>17.23</td>\n",
       "      <td>118.94</td>\n",
       "    </tr>\n",
       "    <tr>\n",
       "      <th>1</th>\n",
       "      <td>ALB</td>\n",
       "      <td>ATL</td>\n",
       "      <td>214.42</td>\n",
       "      <td>852</td>\n",
       "      <td>215.76</td>\n",
       "      <td>DL</td>\n",
       "      <td>78.89</td>\n",
       "      <td>223.98</td>\n",
       "      <td>CO</td>\n",
       "      <td>2.77</td>\n",
       "      <td>167.12</td>\n",
       "    </tr>\n",
       "    <tr>\n",
       "      <th>2</th>\n",
       "      <td>ALB</td>\n",
       "      <td>BWI</td>\n",
       "      <td>69.40</td>\n",
       "      <td>288</td>\n",
       "      <td>606.84</td>\n",
       "      <td>WN</td>\n",
       "      <td>96.97</td>\n",
       "      <td>68.86</td>\n",
       "      <td>WN</td>\n",
       "      <td>96.97</td>\n",
       "      <td>68.86</td>\n",
       "    </tr>\n",
       "    <tr>\n",
       "      <th>3</th>\n",
       "      <td>ALB</td>\n",
       "      <td>ORD</td>\n",
       "      <td>158.13</td>\n",
       "      <td>723</td>\n",
       "      <td>313.04</td>\n",
       "      <td>UA</td>\n",
       "      <td>39.79</td>\n",
       "      <td>161.36</td>\n",
       "      <td>WN</td>\n",
       "      <td>15.34</td>\n",
       "      <td>145.42</td>\n",
       "    </tr>\n",
       "    <tr>\n",
       "      <th>4</th>\n",
       "      <td>ALB</td>\n",
       "      <td>FLL</td>\n",
       "      <td>135.17</td>\n",
       "      <td>1204</td>\n",
       "      <td>199.02</td>\n",
       "      <td>WN</td>\n",
       "      <td>40.68</td>\n",
       "      <td>137.97</td>\n",
       "      <td>DL</td>\n",
       "      <td>17.09</td>\n",
       "      <td>127.69</td>\n",
       "    </tr>\n",
       "  </tbody>\n",
       "</table>\n",
       "</div>"
      ],
      "text/plain": [
       "  City1 City2  Average Flight Fare  Distance  Average Weekly Passengers  \\\n",
       "0   CAK   MCO               122.47       860                     276.84   \n",
       "1   ALB   ATL               214.42       852                     215.76   \n",
       "2   ALB   BWI                69.40       288                     606.84   \n",
       "3   ALB   ORD               158.13       723                     313.04   \n",
       "4   ALB   FLL               135.17      1204                     199.02   \n",
       "\n",
       "  Market Leading Airline (MLA)  Market Share MLA  Average MLA Fare  \\\n",
       "0                           FL             75.10            123.09   \n",
       "1                           DL             78.89            223.98   \n",
       "2                           WN             96.97             68.86   \n",
       "3                           UA             39.79            161.36   \n",
       "4                           WN             40.68            137.97   \n",
       "\n",
       "  Low Price Airline (LPA)  Market Share LPA  Average LPA Fare  \n",
       "0                      DL             17.23            118.94  \n",
       "1                      CO              2.77            167.12  \n",
       "2                      WN             96.97             68.86  \n",
       "3                      WN             15.34            145.42  \n",
       "4                      DL             17.09            127.69  "
      ]
     },
     "execution_count": 4,
     "metadata": {},
     "output_type": "execute_result"
    }
   ],
   "source": [
    "file.head()"
   ]
  },
  {
   "cell_type": "markdown",
   "metadata": {
    "colab_type": "text",
    "id": "NSjZ8ePbQ26F"
   },
   "source": [
    "# 2. Data Cleaning"
   ]
  },
  {
   "cell_type": "code",
   "execution_count": 5,
   "metadata": {
    "colab": {},
    "colab_type": "code",
    "id": "lf6F6A6_Q26G",
    "outputId": "1db22572-2335-46ae-e857-e203cdedbaa0"
   },
   "outputs": [
    {
     "name": "stdout",
     "output_type": "stream",
     "text": [
      " Shape of the dataframe = (999, 11)\n",
      " Total number of rows in the dataset =  999\n"
     ]
    }
   ],
   "source": [
    "# getting total number of rows and column in the dataframe\n",
    "print(f\" Shape of the dataframe = {file.shape}\")\n",
    "totalrows=file.shape[0]\n",
    "print(f\" Total number of rows in the dataset =  {totalrows}\")"
   ]
  },
  {
   "cell_type": "code",
   "execution_count": 6,
   "metadata": {
    "colab": {},
    "colab_type": "code",
    "id": "rfVlqniTQ26K",
    "outputId": "af736744-461d-400a-882b-aef3167abe09"
   },
   "outputs": [
    {
     "data": {
      "text/plain": [
       "City1                           0\n",
       "City2                           0\n",
       "Average Flight Fare             0\n",
       "Distance                        0\n",
       "Average Weekly Passengers       0\n",
       "Market Leading Airline (MLA)    0\n",
       "Market Share MLA                0\n",
       "Average MLA Fare                0\n",
       "Low Price Airline (LPA)         0\n",
       "Market Share LPA                0\n",
       "Average LPA Fare                0\n",
       "dtype: int64"
      ]
     },
     "execution_count": 6,
     "metadata": {},
     "output_type": "execute_result"
    }
   ],
   "source": [
    "# Checking Null colunms\n",
    "file_nullcols = file.isnull().sum()\n",
    "file_nullcols\n",
    "\n",
    "# No null values are found"
   ]
  },
  {
   "cell_type": "code",
   "execution_count": 7,
   "metadata": {
    "colab": {},
    "colab_type": "code",
    "id": "yRKgLuN2Q26N",
    "outputId": "db8ba15c-4a22-4d50-c8d2-9a21a907873f"
   },
   "outputs": [
    {
     "data": {
      "text/plain": [
       "City1                            object\n",
       "City2                            object\n",
       "Average Flight Fare             float64\n",
       "Distance                          int64\n",
       "Average Weekly Passengers       float64\n",
       "Market Leading Airline (MLA)     object\n",
       "Market Share MLA                float64\n",
       "Average MLA Fare                float64\n",
       "Low Price Airline (LPA)          object\n",
       "Market Share LPA                float64\n",
       "Average LPA Fare                float64\n",
       "dtype: object"
      ]
     },
     "execution_count": 7,
     "metadata": {},
     "output_type": "execute_result"
    }
   ],
   "source": [
    "# Checking data type of each colunm to check if any type needs to be changed\n",
    "file.dtypes"
   ]
  },
  {
   "cell_type": "code",
   "execution_count": null,
   "metadata": {
    "colab": {},
    "colab_type": "code",
    "id": "H_q1m957Q26Q"
   },
   "outputs": [],
   "source": []
  },
  {
   "cell_type": "code",
   "execution_count": 8,
   "metadata": {
    "colab": {},
    "colab_type": "code",
    "id": "A8VnRntYQ26T",
    "outputId": "c0e64656-a24f-42e6-d8f3-9e9536276e2f"
   },
   "outputs": [
    {
     "data": {
      "text/html": [
       "<div>\n",
       "<style scoped>\n",
       "    .dataframe tbody tr th:only-of-type {\n",
       "        vertical-align: middle;\n",
       "    }\n",
       "\n",
       "    .dataframe tbody tr th {\n",
       "        vertical-align: top;\n",
       "    }\n",
       "\n",
       "    .dataframe thead th {\n",
       "        text-align: right;\n",
       "    }\n",
       "</style>\n",
       "<table border=\"1\" class=\"dataframe\">\n",
       "  <thead>\n",
       "    <tr style=\"text-align: right;\">\n",
       "      <th></th>\n",
       "      <th>Average Flight Fare</th>\n",
       "      <th>Distance</th>\n",
       "      <th>Average Weekly Passengers</th>\n",
       "      <th>Market Share MLA</th>\n",
       "      <th>Average MLA Fare</th>\n",
       "      <th>Market Share LPA</th>\n",
       "      <th>Average LPA Fare</th>\n",
       "    </tr>\n",
       "  </thead>\n",
       "  <tbody>\n",
       "    <tr>\n",
       "      <th>count</th>\n",
       "      <td>999.000000</td>\n",
       "      <td>999.000000</td>\n",
       "      <td>999.000000</td>\n",
       "      <td>999.000000</td>\n",
       "      <td>999.000000</td>\n",
       "      <td>999.000000</td>\n",
       "      <td>999.000000</td>\n",
       "    </tr>\n",
       "    <tr>\n",
       "      <th>mean</th>\n",
       "      <td>163.424374</td>\n",
       "      <td>1057.502503</td>\n",
       "      <td>672.527107</td>\n",
       "      <td>60.118519</td>\n",
       "      <td>166.703233</td>\n",
       "      <td>34.515806</td>\n",
       "      <td>143.225285</td>\n",
       "    </tr>\n",
       "    <tr>\n",
       "      <th>std</th>\n",
       "      <td>55.371544</td>\n",
       "      <td>643.307320</td>\n",
       "      <td>766.863056</td>\n",
       "      <td>19.374859</td>\n",
       "      <td>62.666775</td>\n",
       "      <td>27.087067</td>\n",
       "      <td>47.241860</td>\n",
       "    </tr>\n",
       "    <tr>\n",
       "      <th>min</th>\n",
       "      <td>50.520000</td>\n",
       "      <td>108.000000</td>\n",
       "      <td>181.410000</td>\n",
       "      <td>17.680000</td>\n",
       "      <td>50.520000</td>\n",
       "      <td>1.060000</td>\n",
       "      <td>49.610000</td>\n",
       "    </tr>\n",
       "    <tr>\n",
       "      <th>25%</th>\n",
       "      <td>126.025000</td>\n",
       "      <td>554.000000</td>\n",
       "      <td>257.115000</td>\n",
       "      <td>46.510000</td>\n",
       "      <td>124.120000</td>\n",
       "      <td>13.190000</td>\n",
       "      <td>113.825000</td>\n",
       "    </tr>\n",
       "    <tr>\n",
       "      <th>50%</th>\n",
       "      <td>161.360000</td>\n",
       "      <td>919.000000</td>\n",
       "      <td>404.780000</td>\n",
       "      <td>59.060000</td>\n",
       "      <td>161.440000</td>\n",
       "      <td>26.120000</td>\n",
       "      <td>137.830000</td>\n",
       "    </tr>\n",
       "    <tr>\n",
       "      <th>75%</th>\n",
       "      <td>197.435000</td>\n",
       "      <td>1455.000000</td>\n",
       "      <td>770.265000</td>\n",
       "      <td>73.520000</td>\n",
       "      <td>203.105000</td>\n",
       "      <td>52.950000</td>\n",
       "      <td>168.540000</td>\n",
       "    </tr>\n",
       "    <tr>\n",
       "      <th>max</th>\n",
       "      <td>401.230000</td>\n",
       "      <td>2724.000000</td>\n",
       "      <td>8950.760000</td>\n",
       "      <td>100.000000</td>\n",
       "      <td>490.030000</td>\n",
       "      <td>100.000000</td>\n",
       "      <td>387.940000</td>\n",
       "    </tr>\n",
       "  </tbody>\n",
       "</table>\n",
       "</div>"
      ],
      "text/plain": [
       "       Average Flight Fare     Distance  Average Weekly Passengers  \\\n",
       "count           999.000000   999.000000                 999.000000   \n",
       "mean            163.424374  1057.502503                 672.527107   \n",
       "std              55.371544   643.307320                 766.863056   \n",
       "min              50.520000   108.000000                 181.410000   \n",
       "25%             126.025000   554.000000                 257.115000   \n",
       "50%             161.360000   919.000000                 404.780000   \n",
       "75%             197.435000  1455.000000                 770.265000   \n",
       "max             401.230000  2724.000000                8950.760000   \n",
       "\n",
       "       Market Share MLA  Average MLA Fare  Market Share LPA  Average LPA Fare  \n",
       "count        999.000000        999.000000        999.000000        999.000000  \n",
       "mean          60.118519        166.703233         34.515806        143.225285  \n",
       "std           19.374859         62.666775         27.087067         47.241860  \n",
       "min           17.680000         50.520000          1.060000         49.610000  \n",
       "25%           46.510000        124.120000         13.190000        113.825000  \n",
       "50%           59.060000        161.440000         26.120000        137.830000  \n",
       "75%           73.520000        203.105000         52.950000        168.540000  \n",
       "max          100.000000        490.030000        100.000000        387.940000  "
      ]
     },
     "execution_count": 8,
     "metadata": {},
     "output_type": "execute_result"
    }
   ],
   "source": [
    "# Checking basic details of the data\n",
    "file.describe()"
   ]
  },
  {
   "cell_type": "code",
   "execution_count": 9,
   "metadata": {
    "colab": {},
    "colab_type": "code",
    "id": "zUTZDchqQ26W"
   },
   "outputs": [],
   "source": [
    "# Mean of distance, Average Weekly Passengers, Market share is above median\n",
    "#These prima facie seem to have outliers"
   ]
  },
  {
   "cell_type": "markdown",
   "metadata": {
    "colab_type": "text",
    "id": "vcm6Ovv5Q26Z"
   },
   "source": [
    "# 3. EDA"
   ]
  },
  {
   "cell_type": "markdown",
   "metadata": {
    "colab_type": "text",
    "id": "xuCUK51mQ26a"
   },
   "source": [
    "## 3.1. Univariate Analysis"
   ]
  },
  {
   "cell_type": "code",
   "execution_count": 10,
   "metadata": {
    "colab": {},
    "colab_type": "code",
    "id": "QCZE7_IQQ26c",
    "outputId": "55ab5578-7b6a-4a61-9352-f3b1a23dd614"
   },
   "outputs": [
    {
     "name": "stderr",
     "output_type": "stream",
     "text": [
      "C:\\Users\\sahil\\anaconda3\\lib\\site-packages\\seaborn\\distributions.py:2557: FutureWarning: `distplot` is a deprecated function and will be removed in a future version. Please adapt your code to use either `displot` (a figure-level function with similar flexibility) or `histplot` (an axes-level function for histograms).\n",
      "  warnings.warn(msg, FutureWarning)\n",
      "C:\\Users\\sahil\\anaconda3\\lib\\site-packages\\seaborn\\distributions.py:2557: FutureWarning: `distplot` is a deprecated function and will be removed in a future version. Please adapt your code to use either `displot` (a figure-level function with similar flexibility) or `histplot` (an axes-level function for histograms).\n",
      "  warnings.warn(msg, FutureWarning)\n",
      "C:\\Users\\sahil\\anaconda3\\lib\\site-packages\\seaborn\\distributions.py:2557: FutureWarning: `distplot` is a deprecated function and will be removed in a future version. Please adapt your code to use either `displot` (a figure-level function with similar flexibility) or `histplot` (an axes-level function for histograms).\n",
      "  warnings.warn(msg, FutureWarning)\n",
      "C:\\Users\\sahil\\anaconda3\\lib\\site-packages\\seaborn\\_decorators.py:36: FutureWarning: Pass the following variable as a keyword arg: x. From version 0.12, the only valid positional argument will be `data`, and passing other arguments without an explicit keyword will result in an error or misinterpretation.\n",
      "  warnings.warn(\n",
      "C:\\Users\\sahil\\anaconda3\\lib\\site-packages\\seaborn\\_core.py:1319: UserWarning: Vertical orientation ignored with only `x` specified.\n",
      "  warnings.warn(single_var_warning.format(\"Vertical\", \"x\"))\n",
      "C:\\Users\\sahil\\anaconda3\\lib\\site-packages\\seaborn\\_decorators.py:36: FutureWarning: Pass the following variable as a keyword arg: x. From version 0.12, the only valid positional argument will be `data`, and passing other arguments without an explicit keyword will result in an error or misinterpretation.\n",
      "  warnings.warn(\n",
      "C:\\Users\\sahil\\anaconda3\\lib\\site-packages\\seaborn\\_core.py:1319: UserWarning: Vertical orientation ignored with only `x` specified.\n",
      "  warnings.warn(single_var_warning.format(\"Vertical\", \"x\"))\n",
      "C:\\Users\\sahil\\anaconda3\\lib\\site-packages\\seaborn\\_decorators.py:36: FutureWarning: Pass the following variable as a keyword arg: x. From version 0.12, the only valid positional argument will be `data`, and passing other arguments without an explicit keyword will result in an error or misinterpretation.\n",
      "  warnings.warn(\n",
      "C:\\Users\\sahil\\anaconda3\\lib\\site-packages\\seaborn\\_core.py:1319: UserWarning: Vertical orientation ignored with only `x` specified.\n",
      "  warnings.warn(single_var_warning.format(\"Vertical\", \"x\"))\n"
     ]
    },
    {
     "data": {
      "image/png": "[encoded data removed]",
      "text/plain": [
       "<Figure size 1440x432 with 3 Axes>"
      ]
     },
     "metadata": {
      "needs_background": "light"
     },
     "output_type": "display_data"
    },
    {
     "data": {
      "image/png": "[encoded data removed]",
      "text/plain": [
       "<Figure size 1440x432 with 3 Axes>"
      ]
     },
     "metadata": {
      "needs_background": "light"
     },
     "output_type": "display_data"
    }
   ],
   "source": [
    "plt.figure(figsize=(20,6))\n",
    "plt.subplot(1, 3, 1)\n",
    "plt.title('Average Flight Fare')\n",
    "sns.distplot(file['Average Flight Fare'],color='green')\n",
    "\n",
    "# subplot 2\n",
    "plt.subplot(1, 3, 2)\n",
    "plt.title('Distance')\n",
    "sns.distplot(file['Distance'],color='blue')\n",
    "\n",
    "# subplot 3l\n",
    "plt.subplot(1, 3, 3)\n",
    "plt.title('Average Weekly Passengers')\n",
    "sns.distplot(file['Average Weekly Passengers'],color='red')\n",
    "\n",
    "plt.figure(figsize=(20,6))\n",
    "plt.subplot(1, 3, 1)\n",
    "plt.title('Average Flight Fare')\n",
    "sns.boxplot(file['Average Flight Fare'],orient='vertical',color='green')\n",
    "\n",
    "# subplot 2\n",
    "plt.subplot(1, 3, 2)\n",
    "plt.title('Distance')\n",
    "sns.boxplot(file['Distance'],orient='vertical',color='blue')\n",
    "\n",
    "# subplot 3\n",
    "plt.subplot(1, 3, 3)\n",
    "plt.title('Average Weekly Passengers')\n",
    "sns.boxplot(file['Average Weekly Passengers'],orient='vertical',color='red')\n",
    "\n",
    "\n",
    "plt.show()"
   ]
  },
  {
   "cell_type": "markdown",
   "metadata": {
    "colab_type": "text",
    "id": "hXjSBAl6Q26g"
   },
   "source": [
    "##### Most of the flight fare lie between 100 to 300 with some outliers\n",
    "##### Average distance ranges between 500 to 2500\n",
    "##### Most of the time Average Weekly Passenger numer is less than 2000 but there are large number of outliers  "
   ]
  },
  {
   "cell_type": "code",
   "execution_count": 11,
   "metadata": {
    "colab": {},
    "colab_type": "code",
    "id": "cVeSraklQ26h",
    "outputId": "bed936ad-1d58-4677-974f-a5dca0904e6a"
   },
   "outputs": [
    {
     "name": "stderr",
     "output_type": "stream",
     "text": [
      "C:\\Users\\sahil\\anaconda3\\lib\\site-packages\\seaborn\\distributions.py:2557: FutureWarning: `distplot` is a deprecated function and will be removed in a future version. Please adapt your code to use either `displot` (a figure-level function with similar flexibility) or `histplot` (an axes-level function for histograms).\n",
      "  warnings.warn(msg, FutureWarning)\n",
      "C:\\Users\\sahil\\anaconda3\\lib\\site-packages\\seaborn\\distributions.py:2557: FutureWarning: `distplot` is a deprecated function and will be removed in a future version. Please adapt your code to use either `displot` (a figure-level function with similar flexibility) or `histplot` (an axes-level function for histograms).\n",
      "  warnings.warn(msg, FutureWarning)\n",
      "C:\\Users\\sahil\\anaconda3\\lib\\site-packages\\seaborn\\distributions.py:2557: FutureWarning: `distplot` is a deprecated function and will be removed in a future version. Please adapt your code to use either `displot` (a figure-level function with similar flexibility) or `histplot` (an axes-level function for histograms).\n",
      "  warnings.warn(msg, FutureWarning)\n",
      "C:\\Users\\sahil\\anaconda3\\lib\\site-packages\\seaborn\\distributions.py:2557: FutureWarning: `distplot` is a deprecated function and will be removed in a future version. Please adapt your code to use either `displot` (a figure-level function with similar flexibility) or `histplot` (an axes-level function for histograms).\n",
      "  warnings.warn(msg, FutureWarning)\n",
      "C:\\Users\\sahil\\anaconda3\\lib\\site-packages\\seaborn\\_decorators.py:36: FutureWarning: Pass the following variable as a keyword arg: x. From version 0.12, the only valid positional argument will be `data`, and passing other arguments without an explicit keyword will result in an error or misinterpretation.\n",
      "  warnings.warn(\n",
      "C:\\Users\\sahil\\anaconda3\\lib\\site-packages\\seaborn\\_core.py:1319: UserWarning: Vertical orientation ignored with only `x` specified.\n",
      "  warnings.warn(single_var_warning.format(\"Vertical\", \"x\"))\n",
      "C:\\Users\\sahil\\anaconda3\\lib\\site-packages\\seaborn\\_decorators.py:36: FutureWarning: Pass the following variable as a keyword arg: x. From version 0.12, the only valid positional argument will be `data`, and passing other arguments without an explicit keyword will result in an error or misinterpretation.\n",
      "  warnings.warn(\n",
      "C:\\Users\\sahil\\anaconda3\\lib\\site-packages\\seaborn\\_core.py:1319: UserWarning: Vertical orientation ignored with only `x` specified.\n",
      "  warnings.warn(single_var_warning.format(\"Vertical\", \"x\"))\n",
      "C:\\Users\\sahil\\anaconda3\\lib\\site-packages\\seaborn\\_decorators.py:36: FutureWarning: Pass the following variable as a keyword arg: x. From version 0.12, the only valid positional argument will be `data`, and passing other arguments without an explicit keyword will result in an error or misinterpretation.\n",
      "  warnings.warn(\n",
      "C:\\Users\\sahil\\anaconda3\\lib\\site-packages\\seaborn\\_core.py:1319: UserWarning: Vertical orientation ignored with only `x` specified.\n",
      "  warnings.warn(single_var_warning.format(\"Vertical\", \"x\"))\n",
      "C:\\Users\\sahil\\anaconda3\\lib\\site-packages\\seaborn\\_decorators.py:36: FutureWarning: Pass the following variable as a keyword arg: x. From version 0.12, the only valid positional argument will be `data`, and passing other arguments without an explicit keyword will result in an error or misinterpretation.\n",
      "  warnings.warn(\n",
      "C:\\Users\\sahil\\anaconda3\\lib\\site-packages\\seaborn\\_core.py:1319: UserWarning: Vertical orientation ignored with only `x` specified.\n",
      "  warnings.warn(single_var_warning.format(\"Vertical\", \"x\"))\n"
     ]
    },
    {
     "data": {
      "image/png": "[encoded data removed]",
      "text/plain": [
       "<Figure size 1440x432 with 4 Axes>"
      ]
     },
     "metadata": {
      "needs_background": "light"
     },
     "output_type": "display_data"
    },
    {
     "data": {
      "image/png": "[encoded data removed]",
      "text/plain": [
       "<Figure size 1440x432 with 4 Axes>"
      ]
     },
     "metadata": {
      "needs_background": "light"
     },
     "output_type": "display_data"
    }
   ],
   "source": [
    "plt.figure(figsize=(20,6))\n",
    "plt.subplot(1, 4, 1)\n",
    "plt.title('Market Share MLA')\n",
    "sns.distplot(file['Market Share MLA'],color='green')\n",
    "\n",
    "# subplot 2\n",
    "plt.subplot(1, 4, 2)\n",
    "plt.title('Average MLA Fare')\n",
    "sns.distplot(file['Average MLA Fare'],color='blue')\n",
    "\n",
    "# subplot 3\n",
    "plt.subplot(1, 4, 3)\n",
    "plt.title('Market Share LPA')\n",
    "sns.distplot(file['Market Share LPA'],color='red')\n",
    "\n",
    "# subplot 4\n",
    "plt.subplot(1, 4, 4)\n",
    "plt.title('Average LPA Fare')\n",
    "sns.distplot(file['Average LPA Fare'],color='red')\n",
    "\n",
    "\n",
    "plt.figure(figsize=(20,6))\n",
    "plt.subplot(1, 4, 1)\n",
    "plt.title('Market Share MLA')\n",
    "sns.boxplot(file['Market Share MLA'],orient='vertical',color='green')\n",
    "\n",
    "# subplot 2\n",
    "plt.subplot(1, 4, 2)\n",
    "plt.title('Average MLA Fare')\n",
    "sns.boxplot(file['Average MLA Fare'],orient='vertical',color='blue')\n",
    "\n",
    "# subplot 3\n",
    "plt.subplot(1, 4, 3)\n",
    "plt.title('Market Share LPA')\n",
    "sns.boxplot(file['Market Share LPA'],orient='vertical',color='red')\n",
    "\n",
    "# subplot 4\n",
    "plt.subplot(1, 4, 4)\n",
    "plt.title('Average LPA Fare')\n",
    "sns.boxplot(file['Average LPA Fare'],orient='vertical',color='red')\n",
    "\n",
    "\n",
    "\n",
    "plt.show()"
   ]
  },
  {
   "cell_type": "markdown",
   "metadata": {
    "colab_type": "text",
    "id": "PZ3ose4DQ26k"
   },
   "source": [
    "##### Average fare of both Market Leader and Low Price Airline range from 100 to 300 with some outliers\n",
    "##### Market Leader has 40 to 80 percent market share on most routes\n",
    "##### Lower Price airline has less than 40 percent market share on most of the routes"
   ]
  },
  {
   "cell_type": "code",
   "execution_count": 12,
   "metadata": {
    "colab": {},
    "colab_type": "code",
    "id": "ShGkJQZ9Q26l",
    "outputId": "b5e38f49-eb9f-441b-df43-653095c4ba25"
   },
   "outputs": [
    {
     "data": {
      "image/png": "[encoded data removed]",
      "text/plain": [
       "<Figure size 1584x576 with 1 Axes>"
      ]
     },
     "metadata": {
      "needs_background": "light"
     },
     "output_type": "display_data"
    }
   ],
   "source": [
    "fig, ax = plt.subplots(figsize=(20,8))\n",
    "width = len(file['Market Leading Airline (MLA)'].unique()) + 6\n",
    "fig.set_size_inches(width , 8)\n",
    "ax=sns.countplot(data = file, x= 'Market Leading Airline (MLA)') \n",
    "\n",
    "\n",
    "\n",
    "for p in ax.patches: \n",
    "    ax.annotate(str((np.round(p.get_height()/len(file)*100,decimals=2)))+'%', (p.get_x()+p.get_width()/2., p.get_height()), ha='center', va='center', xytext=(0, 10), textcoords='offset points')"
   ]
  },
  {
   "cell_type": "markdown",
   "metadata": {
    "colab_type": "text",
    "id": "69TZEFxCQ26p"
   },
   "source": [
    "##### WN followed by DL happens to be market leader airline on most of the routes"
   ]
  },
  {
   "cell_type": "code",
   "execution_count": 13,
   "metadata": {
    "colab": {},
    "colab_type": "code",
    "id": "jOFGC8YdQ26q",
    "outputId": "f4acc900-e8c2-4479-d7e0-a55d3dcab0bf"
   },
   "outputs": [
    {
     "data": {
      "image/png": "[encoded data removed]",
      "text/plain": [
       "<Figure size 1800x576 with 1 Axes>"
      ]
     },
     "metadata": {
      "needs_background": "light"
     },
     "output_type": "display_data"
    }
   ],
   "source": [
    "fig, ax = plt.subplots(figsize=(20,8))\n",
    "width = len(file['Low Price Airline (LPA)'].unique()) + 6\n",
    "fig.set_size_inches(width , 8)\n",
    "ax=sns.countplot(data = file, x= 'Low Price Airline (LPA)') \n",
    "\n",
    "\n",
    "\n",
    "for p in ax.patches: \n",
    "    ax.annotate(str((np.round(p.get_height()/len(file)*100,decimals=2)))+'%', (p.get_x()+p.get_width()/2., p.get_height()), ha='center', va='center', xytext=(0, 10), textcoords='offset points')"
   ]
  },
  {
   "cell_type": "code",
   "execution_count": 14,
   "metadata": {
    "colab": {},
    "colab_type": "code",
    "id": "veqE5PcrQ26t"
   },
   "outputs": [],
   "source": [
    "##### WN followed by DL happens to be the low price airline on most routes"
   ]
  },
  {
   "cell_type": "markdown",
   "metadata": {
    "colab_type": "text",
    "id": "Qynh9MIuQ26w"
   },
   "source": [
    "## 3.2. Bivariate Analysis"
   ]
  },
  {
   "cell_type": "code",
   "execution_count": 15,
   "metadata": {
    "colab": {},
    "colab_type": "code",
    "id": "I4eLu8EwQ26x",
    "outputId": "87a1d370-911e-4ab5-8ac9-07a9292de49d"
   },
   "outputs": [
    {
     "data": {
      "text/html": [
       "<style  type=\"text/css\" >\n",
       "#T_a8122_row0_col0,#T_a8122_row1_col1,#T_a8122_row2_col2,#T_a8122_row3_col3,#T_a8122_row4_col4,#T_a8122_row5_col5,#T_a8122_row6_col6{\n",
       "            background-color:  #b40426;\n",
       "            color:  #f1f1f1;\n",
       "        }#T_a8122_row0_col1,#T_a8122_row6_col1{\n",
       "            background-color:  #f6a283;\n",
       "            color:  #000000;\n",
       "        }#T_a8122_row0_col2{\n",
       "            background-color:  #3e51c5;\n",
       "            color:  #f1f1f1;\n",
       "        }#T_a8122_row0_col3{\n",
       "            background-color:  #799cf8;\n",
       "            color:  #000000;\n",
       "        }#T_a8122_row0_col4,#T_a8122_row4_col0{\n",
       "            background-color:  #b8122a;\n",
       "            color:  #f1f1f1;\n",
       "        }#T_a8122_row0_col5{\n",
       "            background-color:  #3d50c3;\n",
       "            color:  #f1f1f1;\n",
       "        }#T_a8122_row0_col6{\n",
       "            background-color:  #d75445;\n",
       "            color:  #000000;\n",
       "        }#T_a8122_row1_col0,#T_a8122_row4_col1{\n",
       "            background-color:  #f7a688;\n",
       "            color:  #000000;\n",
       "        }#T_a8122_row1_col2{\n",
       "            background-color:  #485fd1;\n",
       "            color:  #f1f1f1;\n",
       "        }#T_a8122_row1_col3,#T_a8122_row3_col1,#T_a8122_row3_col6,#T_a8122_row4_col5,#T_a8122_row5_col0,#T_a8122_row5_col4,#T_a8122_row6_col2{\n",
       "            background-color:  #3b4cc0;\n",
       "            color:  #f1f1f1;\n",
       "        }#T_a8122_row1_col4{\n",
       "            background-color:  #f7aa8c;\n",
       "            color:  #000000;\n",
       "        }#T_a8122_row1_col5{\n",
       "            background-color:  #506bda;\n",
       "            color:  #000000;\n",
       "        }#T_a8122_row1_col6{\n",
       "            background-color:  #f7b396;\n",
       "            color:  #000000;\n",
       "        }#T_a8122_row2_col0{\n",
       "            background-color:  #85a8fc;\n",
       "            color:  #000000;\n",
       "        }#T_a8122_row2_col1{\n",
       "            background-color:  #9abbff;\n",
       "            color:  #000000;\n",
       "        }#T_a8122_row2_col3{\n",
       "            background-color:  #9fbfff;\n",
       "            color:  #000000;\n",
       "        }#T_a8122_row2_col4{\n",
       "            background-color:  #8db0fe;\n",
       "            color:  #000000;\n",
       "        }#T_a8122_row2_col5{\n",
       "            background-color:  #aec9fc;\n",
       "            color:  #000000;\n",
       "        }#T_a8122_row2_col6{\n",
       "            background-color:  #6282ea;\n",
       "            color:  #000000;\n",
       "        }#T_a8122_row3_col0,#T_a8122_row5_col2{\n",
       "            background-color:  #6b8df0;\n",
       "            color:  #000000;\n",
       "        }#T_a8122_row3_col2{\n",
       "            background-color:  #4e68d8;\n",
       "            color:  #000000;\n",
       "        }#T_a8122_row3_col4{\n",
       "            background-color:  #7093f3;\n",
       "            color:  #000000;\n",
       "        }#T_a8122_row3_col5{\n",
       "            background-color:  #e4d9d2;\n",
       "            color:  #000000;\n",
       "        }#T_a8122_row4_col2{\n",
       "            background-color:  #455cce;\n",
       "            color:  #f1f1f1;\n",
       "        }#T_a8122_row4_col3{\n",
       "            background-color:  #7b9ff9;\n",
       "            color:  #000000;\n",
       "        }#T_a8122_row4_col6{\n",
       "            background-color:  #df634e;\n",
       "            color:  #000000;\n",
       "        }#T_a8122_row5_col1{\n",
       "            background-color:  #5b7ae5;\n",
       "            color:  #000000;\n",
       "        }#T_a8122_row5_col3{\n",
       "            background-color:  #e9d5cb;\n",
       "            color:  #000000;\n",
       "        }#T_a8122_row5_col6{\n",
       "            background-color:  #4a63d3;\n",
       "            color:  #f1f1f1;\n",
       "        }#T_a8122_row6_col0{\n",
       "            background-color:  #d44e41;\n",
       "            color:  #000000;\n",
       "        }#T_a8122_row6_col3{\n",
       "            background-color:  #688aef;\n",
       "            color:  #000000;\n",
       "        }#T_a8122_row6_col4{\n",
       "            background-color:  #dc5d4a;\n",
       "            color:  #000000;\n",
       "        }#T_a8122_row6_col5{\n",
       "            background-color:  #6c8ff1;\n",
       "            color:  #000000;\n",
       "        }</style><table id=\"T_a8122_\" ><thead>    <tr>        <th class=\"blank level0\" ></th>        <th class=\"col_heading level0 col0\" >Average Flight Fare</th>        <th class=\"col_heading level0 col1\" >Distance</th>        <th class=\"col_heading level0 col2\" >Average Weekly Passengers</th>        <th class=\"col_heading level0 col3\" >Market Share MLA</th>        <th class=\"col_heading level0 col4\" >Average MLA Fare</th>        <th class=\"col_heading level0 col5\" >Market Share LPA</th>        <th class=\"col_heading level0 col6\" >Average LPA Fare</th>    </tr></thead><tbody>\n",
       "                <tr>\n",
       "                        <th id=\"T_a8122_level0_row0\" class=\"row_heading level0 row0\" >Average Flight Fare</th>\n",
       "                        <td id=\"T_a8122_row0_col0\" class=\"data row0 col0\" >1.000000</td>\n",
       "                        <td id=\"T_a8122_row0_col1\" class=\"data row0 col1\" >0.586869</td>\n",
       "                        <td id=\"T_a8122_row0_col2\" class=\"data row0 col2\" >-0.126517</td>\n",
       "                        <td id=\"T_a8122_row0_col3\" class=\"data row0 col3\" >-0.233805</td>\n",
       "                        <td id=\"T_a8122_row0_col4\" class=\"data row0 col4\" >0.981448</td>\n",
       "                        <td id=\"T_a8122_row0_col5\" class=\"data row0 col5\" >-0.458072</td>\n",
       "                        <td id=\"T_a8122_row0_col6\" class=\"data row0 col6\" >0.866348</td>\n",
       "            </tr>\n",
       "            <tr>\n",
       "                        <th id=\"T_a8122_level0_row1\" class=\"row_heading level0 row1\" >Distance</th>\n",
       "                        <td id=\"T_a8122_row1_col0\" class=\"data row1 col0\" >0.586869</td>\n",
       "                        <td id=\"T_a8122_row1_col1\" class=\"data row1 col1\" >1.000000</td>\n",
       "                        <td id=\"T_a8122_row1_col2\" class=\"data row1 col2\" >-0.090433</td>\n",
       "                        <td id=\"T_a8122_row1_col3\" class=\"data row1 col3\" >-0.531229</td>\n",
       "                        <td id=\"T_a8122_row1_col4\" class=\"data row1 col4\" >0.563765</td>\n",
       "                        <td id=\"T_a8122_row1_col5\" class=\"data row1 col5\" >-0.367190</td>\n",
       "                        <td id=\"T_a8122_row1_col6\" class=\"data row1 col6\" >0.583011</td>\n",
       "            </tr>\n",
       "            <tr>\n",
       "                        <th id=\"T_a8122_level0_row2\" class=\"row_heading level0 row2\" >Average Weekly Passengers</th>\n",
       "                        <td id=\"T_a8122_row2_col0\" class=\"data row2 col0\" >-0.126517</td>\n",
       "                        <td id=\"T_a8122_row2_col1\" class=\"data row2 col1\" >-0.090433</td>\n",
       "                        <td id=\"T_a8122_row2_col2\" class=\"data row2 col2\" >1.000000</td>\n",
       "                        <td id=\"T_a8122_row2_col3\" class=\"data row2 col3\" >-0.067450</td>\n",
       "                        <td id=\"T_a8122_row2_col4\" class=\"data row2 col4\" >-0.101279</td>\n",
       "                        <td id=\"T_a8122_row2_col5\" class=\"data row2 col5\" >0.034699</td>\n",
       "                        <td id=\"T_a8122_row2_col6\" class=\"data row2 col6\" >-0.142575</td>\n",
       "            </tr>\n",
       "            <tr>\n",
       "                        <th id=\"T_a8122_level0_row3\" class=\"row_heading level0 row3\" >Market Share MLA</th>\n",
       "                        <td id=\"T_a8122_row3_col0\" class=\"data row3 col0\" >-0.233805</td>\n",
       "                        <td id=\"T_a8122_row3_col1\" class=\"data row3 col1\" >-0.531229</td>\n",
       "                        <td id=\"T_a8122_row3_col2\" class=\"data row3 col2\" >-0.067450</td>\n",
       "                        <td id=\"T_a8122_row3_col3\" class=\"data row3 col3\" >1.000000</td>\n",
       "                        <td id=\"T_a8122_row3_col4\" class=\"data row3 col4\" >-0.220456</td>\n",
       "                        <td id=\"T_a8122_row3_col5\" class=\"data row3 col5\" >0.306454</td>\n",
       "                        <td id=\"T_a8122_row3_col6\" class=\"data row3 col6\" >-0.307430</td>\n",
       "            </tr>\n",
       "            <tr>\n",
       "                        <th id=\"T_a8122_level0_row4\" class=\"row_heading level0 row4\" >Average MLA Fare</th>\n",
       "                        <td id=\"T_a8122_row4_col0\" class=\"data row4 col0\" >0.981448</td>\n",
       "                        <td id=\"T_a8122_row4_col1\" class=\"data row4 col1\" >0.563765</td>\n",
       "                        <td id=\"T_a8122_row4_col2\" class=\"data row4 col2\" >-0.101279</td>\n",
       "                        <td id=\"T_a8122_row4_col3\" class=\"data row4 col3\" >-0.220456</td>\n",
       "                        <td id=\"T_a8122_row4_col4\" class=\"data row4 col4\" >1.000000</td>\n",
       "                        <td id=\"T_a8122_row4_col5\" class=\"data row4 col5\" >-0.472264</td>\n",
       "                        <td id=\"T_a8122_row4_col6\" class=\"data row4 col6\" >0.826423</td>\n",
       "            </tr>\n",
       "            <tr>\n",
       "                        <th id=\"T_a8122_level0_row5\" class=\"row_heading level0 row5\" >Market Share LPA</th>\n",
       "                        <td id=\"T_a8122_row5_col0\" class=\"data row5 col0\" >-0.458072</td>\n",
       "                        <td id=\"T_a8122_row5_col1\" class=\"data row5 col1\" >-0.367190</td>\n",
       "                        <td id=\"T_a8122_row5_col2\" class=\"data row5 col2\" >0.034699</td>\n",
       "                        <td id=\"T_a8122_row5_col3\" class=\"data row5 col3\" >0.306454</td>\n",
       "                        <td id=\"T_a8122_row5_col4\" class=\"data row5 col4\" >-0.472264</td>\n",
       "                        <td id=\"T_a8122_row5_col5\" class=\"data row5 col5\" >1.000000</td>\n",
       "                        <td id=\"T_a8122_row5_col6\" class=\"data row5 col6\" >-0.239552</td>\n",
       "            </tr>\n",
       "            <tr>\n",
       "                        <th id=\"T_a8122_level0_row6\" class=\"row_heading level0 row6\" >Average LPA Fare</th>\n",
       "                        <td id=\"T_a8122_row6_col0\" class=\"data row6 col0\" >0.866348</td>\n",
       "                        <td id=\"T_a8122_row6_col1\" class=\"data row6 col1\" >0.583011</td>\n",
       "                        <td id=\"T_a8122_row6_col2\" class=\"data row6 col2\" >-0.142575</td>\n",
       "                        <td id=\"T_a8122_row6_col3\" class=\"data row6 col3\" >-0.307430</td>\n",
       "                        <td id=\"T_a8122_row6_col4\" class=\"data row6 col4\" >0.826423</td>\n",
       "                        <td id=\"T_a8122_row6_col5\" class=\"data row6 col5\" >-0.239552</td>\n",
       "                        <td id=\"T_a8122_row6_col6\" class=\"data row6 col6\" >1.000000</td>\n",
       "            </tr>\n",
       "    </tbody></table>"
      ],
      "text/plain": [
       "<pandas.io.formats.style.Styler at 0x22ee38ab280>"
      ]
     },
     "execution_count": 15,
     "metadata": {},
     "output_type": "execute_result"
    }
   ],
   "source": [
    "rs = np.random.RandomState(0)\n",
    "df = pd.DataFrame(rs.rand(10, 10))\n",
    "corr = file.corr()\n",
    "corr.style.background_gradient(cmap='coolwarm')"
   ]
  },
  {
   "cell_type": "markdown",
   "metadata": {
    "colab_type": "text",
    "id": "ZZGHEfohQ26z"
   },
   "source": [
    "#### Average Flight fare is most corelated to fare of market leader and low performing flight"
   ]
  },
  {
   "cell_type": "code",
   "execution_count": 16,
   "metadata": {
    "colab": {},
    "colab_type": "code",
    "id": "UkV1G-fdQ260",
    "outputId": "07ac52bd-006d-4c3e-d559-3db30cdc7a83"
   },
   "outputs": [
    {
     "data": {
      "text/plain": [
       "<AxesSubplot:xlabel='Low Price Airline (LPA)', ylabel='Average Flight Fare'>"
      ]
     },
     "execution_count": 16,
     "metadata": {},
     "output_type": "execute_result"
    },
    {
     "data": {
      "image/png": "[encoded data removed]",
      "text/plain": [
       "<Figure size 1440x864 with 2 Axes>"
      ]
     },
     "metadata": {
      "needs_background": "light"
     },
     "output_type": "display_data"
    }
   ],
   "source": [
    "plt.figure(figsize=(20, 12))\n",
    "plt.subplot(1,2,1)\n",
    "sns.boxplot(x = 'Market Leading Airline (MLA)', y = 'Average Flight Fare', data = file)\n",
    "plt.subplot(1,2,2)\n",
    "sns.boxplot(x = 'Low Price Airline (LPA)', y = 'Average Flight Fare', data = file)"
   ]
  },
  {
   "cell_type": "markdown",
   "metadata": {
    "colab_type": "text",
    "id": "hcR1Tz4hQ266"
   },
   "source": [
    "##### Most flights have comparable median flight fare with some having very low values\n",
    "##### Flight fare of market leading airline and Low Price airline seem to fall in similar range"
   ]
  },
  {
   "cell_type": "markdown",
   "metadata": {
    "colab_type": "text",
    "id": "7T54nI7KQ27B"
   },
   "source": []
  },
  {
   "cell_type": "markdown",
   "metadata": {
    "colab_type": "text",
    "id": "EG6NcFZfQ27D"
   },
   "source": [
    "# 4. Multivariate Regression and Scatter Plot"
   ]
  },
  {
   "cell_type": "markdown",
   "metadata": {
    "colab_type": "text",
    "id": "Rr3WPHpnQ27F"
   },
   "source": [
    "## 4.1. Scatter Plot"
   ]
  },
  {
   "cell_type": "code",
   "execution_count": 17,
   "metadata": {
    "colab": {},
    "colab_type": "code",
    "id": "dmHFdm-LQ27G",
    "outputId": "def7a807-dc7d-4db0-8511-e27f070d2fa9"
   },
   "outputs": [
    {
     "data": {
      "image/png": "[encoded data removed]",
      "text/plain": [
       "<Figure size 1080x180 with 6 Axes>"
      ]
     },
     "metadata": {
      "needs_background": "light"
     },
     "output_type": "display_data"
    }
   ],
   "source": [
    "sns.pairplot(file, y_vars='Average Flight Fare', x_vars=[\"Distance\", \"Average Weekly Passengers\",\n",
    "                                                       'Market Share MLA', 'Average MLA Fare','Market Share LPA','Average LPA Fare'\n",
    "                                                        ])\n",
    "plt.show()"
   ]
  },
  {
   "cell_type": "markdown",
   "metadata": {
    "colab_type": "text",
    "id": "RL506-8wQ27L"
   },
   "source": [
    "##### Average Flight fare is most corelated to fare of market leader and low performing flight with mild corelation with Distance as well"
   ]
  },
  {
   "cell_type": "markdown",
   "metadata": {
    "colab_type": "text",
    "id": "vg6uxGJrQ27M"
   },
   "source": [
    "##### Variabes need to be scaled before further analysis"
   ]
  },
  {
   "cell_type": "markdown",
   "metadata": {
    "colab_type": "text",
    "id": "_7QI13auQ27N"
   },
   "source": [
    "##### Transformation seems unnecessary as most data points don't show any clear trend with Average flight Fare.\n",
    "##### Still checkking effect of log transformation on the data set"
   ]
  },
  {
   "cell_type": "code",
   "execution_count": 18,
   "metadata": {
    "colab": {},
    "colab_type": "code",
    "id": "H1w9xBcHQ27O"
   },
   "outputs": [],
   "source": [
    "# Log Transformation of independent variables\n",
    "D1 = np.log(file['Distance'])\n",
    "D2 = np.log(file['Average Weekly Passengers'])\n",
    "D3 = np.log(file['Market Share MLA'])\n",
    "D4 = np.log(file['Average MLA Fare'])\n",
    "D5 = np.log(file['Market Share LPA'])\n",
    "D6 = np.log(file['Average LPA Fare'])"
   ]
  },
  {
   "cell_type": "code",
   "execution_count": 19,
   "metadata": {
    "colab": {},
    "colab_type": "code",
    "id": "3F755xteQ27S",
    "outputId": "24b5449c-50d5-47dc-fd39-fcdffdb8960f"
   },
   "outputs": [
    {
     "data": {
      "image/png": "[encoded data removed]",
      "text/plain": [
       "<Figure size 1440x432 with 1 Axes>"
      ]
     },
     "metadata": {
      "needs_background": "light"
     },
     "output_type": "display_data"
    },
    {
     "data": {
      "image/png": "[encoded data removed]",
      "text/plain": [
       "<Figure size 1440x432 with 1 Axes>"
      ]
     },
     "metadata": {
      "needs_background": "light"
     },
     "output_type": "display_data"
    }
   ],
   "source": [
    "plt.figure(figsize=(20,6))\n",
    "plt.subplot(1, 2, 1)\n",
    "plt.title('Flight Fare vs Log(Distance)')\n",
    "plt.scatter( D1, file['Average Flight Fare'])\n",
    "plt.xlabel('Log(Distance)')\n",
    "plt.ylabel('Flight Fare')\n",
    "\n",
    "\n",
    "plt.figure(figsize=(20,6))\n",
    "plt.subplot(1, 2, 2)\n",
    "plt.title('Flight Fare vs Log(Average Weekly Passengers)')\n",
    "plt.scatter( D2, file['Average Flight Fare'])\n",
    "plt.xlabel('Log(Average Weekly Passengers)')\n",
    "plt.ylabel('Flight Fare')\n",
    "\n",
    "\n",
    "plt.show()"
   ]
  },
  {
   "cell_type": "markdown",
   "metadata": {
    "colab_type": "text",
    "id": "PgDDyabjQ27V"
   },
   "source": [
    "#### Given Transformation does'nt seem to be adding much value, going forth with raw data only"
   ]
  },
  {
   "cell_type": "markdown",
   "metadata": {
    "colab_type": "text",
    "id": "nnh6ejTNQ27W"
   },
   "source": [
    "## 4.2. Multi Linear Regression Model"
   ]
  },
  {
   "cell_type": "code",
   "execution_count": 20,
   "metadata": {
    "colab": {},
    "colab_type": "code",
    "id": "Yhp-ifohQ27W"
   },
   "outputs": [],
   "source": [
    "# Dropping cities and Flight Name colunm as these are not actionable"
   ]
  },
  {
   "cell_type": "code",
   "execution_count": 21,
   "metadata": {
    "colab": {},
    "colab_type": "code",
    "id": "EREk1wfdQ27Y"
   },
   "outputs": [],
   "source": [
    "file.drop(['City1'], axis = 1, inplace = True)\n",
    "file.drop(['City2'], axis = 1, inplace = True)\n",
    "file.drop(['Market Leading Airline (MLA)'], axis = 1, inplace = True)\n",
    "file.drop(['Low Price Airline (LPA)'], axis = 1, inplace = True)"
   ]
  },
  {
   "cell_type": "markdown",
   "metadata": {
    "colab_type": "text",
    "id": "udZXQAd6Q27b"
   },
   "source": [
    "###  4.2.1. Splitting Data into Training and Test"
   ]
  },
  {
   "cell_type": "code",
   "execution_count": 22,
   "metadata": {
    "colab": {},
    "colab_type": "code",
    "id": "P4rgW33iQ27b"
   },
   "outputs": [],
   "source": [
    "from sklearn.model_selection import train_test_split\n",
    "np.random.seed(0)\n",
    "file_train, file_test = train_test_split(file, train_size = 0.7, test_size = 0.3, random_state = 100)"
   ]
  },
  {
   "cell_type": "markdown",
   "metadata": {
    "colab_type": "text",
    "id": "ct5gfQ23Q27e"
   },
   "source": [
    "### 4.2.2. Rescaling the Features"
   ]
  },
  {
   "cell_type": "code",
   "execution_count": 23,
   "metadata": {
    "colab": {},
    "colab_type": "code",
    "id": "NfXJFo9FQ27f"
   },
   "outputs": [],
   "source": [
    "from sklearn.preprocessing import MinMaxScaler"
   ]
  },
  {
   "cell_type": "code",
   "execution_count": 24,
   "metadata": {
    "colab": {},
    "colab_type": "code",
    "id": "oog0h12IQ27j"
   },
   "outputs": [],
   "source": [
    "scaler = MinMaxScaler()"
   ]
  },
  {
   "cell_type": "code",
   "execution_count": 25,
   "metadata": {
    "colab": {},
    "colab_type": "code",
    "id": "fn-yyKY5Q27m",
    "outputId": "96042a31-18bf-44c0-b4f0-501b0fe83939"
   },
   "outputs": [],
   "source": [
    "# Apply scaler() to all the columns except the 'dummy' variables\n",
    "vars = ['Average Flight Fare', 'Distance', 'Average Weekly Passengers', 'Market Share MLA', 'Average MLA Fare'\n",
    "            ,'Market Share LPA', 'Average LPA Fare']\n",
    "\n",
    "file[vars] = scaler.fit_transform(file[vars])"
   ]
  },
  {
   "cell_type": "code",
   "execution_count": 26,
   "metadata": {
    "colab": {},
    "colab_type": "code",
    "id": "PdNiGVe2Q27q",
    "outputId": "d2e838ad-c2dd-4fe8-a0d2-cdbe360ae67b"
   },
   "outputs": [
    {
     "data": {
      "text/html": [
       "<div>\n",
       "<style scoped>\n",
       "    .dataframe tbody tr th:only-of-type {\n",
       "        vertical-align: middle;\n",
       "    }\n",
       "\n",
       "    .dataframe tbody tr th {\n",
       "        vertical-align: top;\n",
       "    }\n",
       "\n",
       "    .dataframe thead th {\n",
       "        text-align: right;\n",
       "    }\n",
       "</style>\n",
       "<table border=\"1\" class=\"dataframe\">\n",
       "  <thead>\n",
       "    <tr style=\"text-align: right;\">\n",
       "      <th></th>\n",
       "      <th>Average Flight Fare</th>\n",
       "      <th>Distance</th>\n",
       "      <th>Average Weekly Passengers</th>\n",
       "      <th>Market Share MLA</th>\n",
       "      <th>Average MLA Fare</th>\n",
       "      <th>Market Share LPA</th>\n",
       "      <th>Average LPA Fare</th>\n",
       "    </tr>\n",
       "  </thead>\n",
       "  <tbody>\n",
       "    <tr>\n",
       "      <th>0</th>\n",
       "      <td>0.205155</td>\n",
       "      <td>0.287462</td>\n",
       "      <td>0.010882</td>\n",
       "      <td>0.697522</td>\n",
       "      <td>0.165116</td>\n",
       "      <td>0.163432</td>\n",
       "      <td>0.204918</td>\n",
       "    </tr>\n",
       "    <tr>\n",
       "      <th>1</th>\n",
       "      <td>0.467338</td>\n",
       "      <td>0.284404</td>\n",
       "      <td>0.003917</td>\n",
       "      <td>0.743562</td>\n",
       "      <td>0.394667</td>\n",
       "      <td>0.017283</td>\n",
       "      <td>0.347324</td>\n",
       "    </tr>\n",
       "    <tr>\n",
       "      <th>2</th>\n",
       "      <td>0.053834</td>\n",
       "      <td>0.068807</td>\n",
       "      <td>0.048513</td>\n",
       "      <td>0.963192</td>\n",
       "      <td>0.041728</td>\n",
       "      <td>0.969375</td>\n",
       "      <td>0.056897</td>\n",
       "    </tr>\n",
       "    <tr>\n",
       "      <th>3</th>\n",
       "      <td>0.306835</td>\n",
       "      <td>0.235092</td>\n",
       "      <td>0.015010</td>\n",
       "      <td>0.268586</td>\n",
       "      <td>0.252190</td>\n",
       "      <td>0.144330</td>\n",
       "      <td>0.283185</td>\n",
       "    </tr>\n",
       "    <tr>\n",
       "      <th>4</th>\n",
       "      <td>0.241368</td>\n",
       "      <td>0.418960</td>\n",
       "      <td>0.002008</td>\n",
       "      <td>0.279397</td>\n",
       "      <td>0.198972</td>\n",
       "      <td>0.162017</td>\n",
       "      <td>0.230781</td>\n",
       "    </tr>\n",
       "  </tbody>\n",
       "</table>\n",
       "</div>"
      ],
      "text/plain": [
       "   Average Flight Fare  Distance  Average Weekly Passengers  Market Share MLA  \\\n",
       "0             0.205155  0.287462                   0.010882          0.697522   \n",
       "1             0.467338  0.284404                   0.003917          0.743562   \n",
       "2             0.053834  0.068807                   0.048513          0.963192   \n",
       "3             0.306835  0.235092                   0.015010          0.268586   \n",
       "4             0.241368  0.418960                   0.002008          0.279397   \n",
       "\n",
       "   Average MLA Fare  Market Share LPA  Average LPA Fare  \n",
       "0          0.165116          0.163432          0.204918  \n",
       "1          0.394667          0.017283          0.347324  \n",
       "2          0.041728          0.969375          0.056897  \n",
       "3          0.252190          0.144330          0.283185  \n",
       "4          0.198972          0.162017          0.230781  "
      ]
     },
     "execution_count": 26,
     "metadata": {},
     "output_type": "execute_result"
    }
   ],
   "source": [
    "file.head()"
   ]
  },
  {
   "cell_type": "code",
   "execution_count": 27,
   "metadata": {
    "colab": {},
    "colab_type": "code",
    "id": "l_zylsSrQ27t",
    "outputId": "2ccfe24c-8a7b-431f-ab52-9eb0218a55bf"
   },
   "outputs": [
    {
     "data": {
      "text/html": [
       "<div>\n",
       "<style scoped>\n",
       "    .dataframe tbody tr th:only-of-type {\n",
       "        vertical-align: middle;\n",
       "    }\n",
       "\n",
       "    .dataframe tbody tr th {\n",
       "        vertical-align: top;\n",
       "    }\n",
       "\n",
       "    .dataframe thead th {\n",
       "        text-align: right;\n",
       "    }\n",
       "</style>\n",
       "<table border=\"1\" class=\"dataframe\">\n",
       "  <thead>\n",
       "    <tr style=\"text-align: right;\">\n",
       "      <th></th>\n",
       "      <th>Average Flight Fare</th>\n",
       "      <th>Distance</th>\n",
       "      <th>Average Weekly Passengers</th>\n",
       "      <th>Market Share MLA</th>\n",
       "      <th>Average MLA Fare</th>\n",
       "      <th>Market Share LPA</th>\n",
       "      <th>Average LPA Fare</th>\n",
       "    </tr>\n",
       "  </thead>\n",
       "  <tbody>\n",
       "    <tr>\n",
       "      <th>count</th>\n",
       "      <td>999.000000</td>\n",
       "      <td>999.000000</td>\n",
       "      <td>999.000000</td>\n",
       "      <td>999.000000</td>\n",
       "      <td>999.000000</td>\n",
       "      <td>999.000000</td>\n",
       "      <td>999.000000</td>\n",
       "    </tr>\n",
       "    <tr>\n",
       "      <th>mean</th>\n",
       "      <td>0.321931</td>\n",
       "      <td>0.362960</td>\n",
       "      <td>0.056004</td>\n",
       "      <td>0.515531</td>\n",
       "      <td>0.264347</td>\n",
       "      <td>0.338142</td>\n",
       "      <td>0.276698</td>\n",
       "    </tr>\n",
       "    <tr>\n",
       "      <th>std</th>\n",
       "      <td>0.157884</td>\n",
       "      <td>0.245913</td>\n",
       "      <td>0.087448</td>\n",
       "      <td>0.235360</td>\n",
       "      <td>0.142583</td>\n",
       "      <td>0.273773</td>\n",
       "      <td>0.139632</td>\n",
       "    </tr>\n",
       "    <tr>\n",
       "      <th>min</th>\n",
       "      <td>0.000000</td>\n",
       "      <td>0.000000</td>\n",
       "      <td>0.000000</td>\n",
       "      <td>0.000000</td>\n",
       "      <td>0.000000</td>\n",
       "      <td>0.000000</td>\n",
       "      <td>0.000000</td>\n",
       "    </tr>\n",
       "    <tr>\n",
       "      <th>25%</th>\n",
       "      <td>0.215292</td>\n",
       "      <td>0.170489</td>\n",
       "      <td>0.008633</td>\n",
       "      <td>0.350219</td>\n",
       "      <td>0.167459</td>\n",
       "      <td>0.122600</td>\n",
       "      <td>0.189800</td>\n",
       "    </tr>\n",
       "    <tr>\n",
       "      <th>50%</th>\n",
       "      <td>0.316045</td>\n",
       "      <td>0.310015</td>\n",
       "      <td>0.025472</td>\n",
       "      <td>0.502672</td>\n",
       "      <td>0.252372</td>\n",
       "      <td>0.253285</td>\n",
       "      <td>0.260751</td>\n",
       "    </tr>\n",
       "    <tr>\n",
       "      <th>75%</th>\n",
       "      <td>0.418907</td>\n",
       "      <td>0.514908</td>\n",
       "      <td>0.067149</td>\n",
       "      <td>0.678328</td>\n",
       "      <td>0.347171</td>\n",
       "      <td>0.524459</td>\n",
       "      <td>0.351521</td>\n",
       "    </tr>\n",
       "    <tr>\n",
       "      <th>max</th>\n",
       "      <td>1.000000</td>\n",
       "      <td>1.000000</td>\n",
       "      <td>1.000000</td>\n",
       "      <td>1.000000</td>\n",
       "      <td>1.000000</td>\n",
       "      <td>1.000000</td>\n",
       "      <td>1.000000</td>\n",
       "    </tr>\n",
       "  </tbody>\n",
       "</table>\n",
       "</div>"
      ],
      "text/plain": [
       "       Average Flight Fare    Distance  Average Weekly Passengers  \\\n",
       "count           999.000000  999.000000                 999.000000   \n",
       "mean              0.321931    0.362960                   0.056004   \n",
       "std               0.157884    0.245913                   0.087448   \n",
       "min               0.000000    0.000000                   0.000000   \n",
       "25%               0.215292    0.170489                   0.008633   \n",
       "50%               0.316045    0.310015                   0.025472   \n",
       "75%               0.418907    0.514908                   0.067149   \n",
       "max               1.000000    1.000000                   1.000000   \n",
       "\n",
       "       Market Share MLA  Average MLA Fare  Market Share LPA  Average LPA Fare  \n",
       "count        999.000000        999.000000        999.000000        999.000000  \n",
       "mean           0.515531          0.264347          0.338142          0.276698  \n",
       "std            0.235360          0.142583          0.273773          0.139632  \n",
       "min            0.000000          0.000000          0.000000          0.000000  \n",
       "25%            0.350219          0.167459          0.122600          0.189800  \n",
       "50%            0.502672          0.252372          0.253285          0.260751  \n",
       "75%            0.678328          0.347171          0.524459          0.351521  \n",
       "max            1.000000          1.000000          1.000000          1.000000  "
      ]
     },
     "execution_count": 27,
     "metadata": {},
     "output_type": "execute_result"
    }
   ],
   "source": [
    "file.describe()"
   ]
  },
  {
   "cell_type": "code",
   "execution_count": 28,
   "metadata": {
    "colab": {},
    "colab_type": "code",
    "id": "mqhUjjk9Q27w"
   },
   "outputs": [],
   "source": [
    "y_train = file_train.pop('Average Flight Fare')\n",
    "X_train = file_train"
   ]
  },
  {
   "cell_type": "code",
   "execution_count": null,
   "metadata": {
    "colab": {},
    "colab_type": "code",
    "id": "3WxY9pk_Q27y"
   },
   "outputs": [],
   "source": []
  },
  {
   "cell_type": "markdown",
   "metadata": {
    "colab_type": "text",
    "id": "8lMaA9NwQ270"
   },
   "source": [
    "### 4.2.3. Fitting Regression Model"
   ]
  },
  {
   "cell_type": "code",
   "execution_count": null,
   "metadata": {
    "colab": {},
    "colab_type": "code",
    "id": "9CcP3Au4Q271"
   },
   "outputs": [],
   "source": []
  },
  {
   "cell_type": "code",
   "execution_count": 29,
   "metadata": {
    "colab": {},
    "colab_type": "code",
    "id": "-leQBPEvQ275"
   },
   "outputs": [],
   "source": [
    "import statsmodels.api as sm\n",
    "X_train_lm = sm.add_constant(X_train)\n",
    "lr_1 = sm.OLS(y_train, X_train_lm).fit()"
   ]
  },
  {
   "cell_type": "code",
   "execution_count": 30,
   "metadata": {
    "colab": {},
    "colab_type": "code",
    "id": "2YkOm9yVQ279",
    "outputId": "5e769075-a0f5-4f2f-bdf0-adc7009a8da5"
   },
   "outputs": [
    {
     "name": "stdout",
     "output_type": "stream",
     "text": [
      "                             OLS Regression Results                            \n",
      "===============================================================================\n",
      "Dep. Variable:     Average Flight Fare   R-squared:                       0.974\n",
      "Model:                             OLS   Adj. R-squared:                  0.974\n",
      "Method:                  Least Squares   F-statistic:                     4319.\n",
      "Date:                 Thu, 07 Apr 2022   Prob (F-statistic):               0.00\n",
      "Time:                         23:37:38   Log-Likelihood:                -2539.2\n",
      "No. Observations:                  699   AIC:                             5092.\n",
      "Df Residuals:                      692   BIC:                             5124.\n",
      "Df Model:                            6                                         \n",
      "Covariance Type:             nonrobust                                         \n",
      "=============================================================================================\n",
      "                                coef    std err          t      P>|t|      [0.025      0.975]\n",
      "---------------------------------------------------------------------------------------------\n",
      "const                        12.1361      2.102      5.772      0.000       8.008      16.264\n",
      "Distance                      0.0025      0.001      3.327      0.001       0.001       0.004\n",
      "Average Weekly Passengers    -0.0009      0.000     -2.089      0.037      -0.002   -5.62e-05\n",
      "Market Share MLA              0.0701      0.023      3.095      0.002       0.026       0.114\n",
      "Average MLA Fare              0.6867      0.012     58.712      0.000       0.664       0.710\n",
      "Market Share LPA             -0.0776      0.016     -4.710      0.000      -0.110      -0.045\n",
      "Average LPA Fare              0.2319      0.015     15.912      0.000       0.203       0.261\n",
      "==============================================================================\n",
      "Omnibus:                       91.684   Durbin-Watson:                   2.127\n",
      "Prob(Omnibus):                  0.000   Jarque-Bera (JB):              407.842\n",
      "Skew:                           0.506   Prob(JB):                     2.74e-89\n",
      "Kurtosis:                       6.603   Cond. No.                     8.78e+03\n",
      "==============================================================================\n",
      "\n",
      "Notes:\n",
      "[1] Standard Errors assume that the covariance matrix of the errors is correctly specified.\n",
      "[2] The condition number is large, 8.78e+03. This might indicate that there are\n",
      "strong multicollinearity or other numerical problems.\n"
     ]
    }
   ],
   "source": [
    "print(lr_1.summary())"
   ]
  },
  {
   "cell_type": "markdown",
   "metadata": {
    "colab_type": "text",
    "id": "j1o-CizxQ28B"
   },
   "source": [
    "#### Given Model is able to explain 97% + data, however large number of features have high p value\n",
    "#### Using VIF to cut down features"
   ]
  },
  {
   "cell_type": "code",
   "execution_count": 31,
   "metadata": {
    "colab": {},
    "colab_type": "code",
    "id": "3LPGqGdAQ28C",
    "outputId": "7e0920b0-8ef3-4694-cc73-4d4c8010744a"
   },
   "outputs": [
    {
     "data": {
      "text/html": [
       "<div>\n",
       "<style scoped>\n",
       "    .dataframe tbody tr th:only-of-type {\n",
       "        vertical-align: middle;\n",
       "    }\n",
       "\n",
       "    .dataframe tbody tr th {\n",
       "        vertical-align: top;\n",
       "    }\n",
       "\n",
       "    .dataframe thead th {\n",
       "        text-align: right;\n",
       "    }\n",
       "</style>\n",
       "<table border=\"1\" class=\"dataframe\">\n",
       "  <thead>\n",
       "    <tr style=\"text-align: right;\">\n",
       "      <th></th>\n",
       "      <th>Features</th>\n",
       "      <th>VIF</th>\n",
       "    </tr>\n",
       "  </thead>\n",
       "  <tbody>\n",
       "    <tr>\n",
       "      <th>5</th>\n",
       "      <td>Average LPA Fare</td>\n",
       "      <td>38.51</td>\n",
       "    </tr>\n",
       "    <tr>\n",
       "      <th>3</th>\n",
       "      <td>Average MLA Fare</td>\n",
       "      <td>36.93</td>\n",
       "    </tr>\n",
       "    <tr>\n",
       "      <th>2</th>\n",
       "      <td>Market Share MLA</td>\n",
       "      <td>8.18</td>\n",
       "    </tr>\n",
       "    <tr>\n",
       "      <th>0</th>\n",
       "      <td>Distance</td>\n",
       "      <td>6.52</td>\n",
       "    </tr>\n",
       "    <tr>\n",
       "      <th>4</th>\n",
       "      <td>Market Share LPA</td>\n",
       "      <td>4.31</td>\n",
       "    </tr>\n",
       "    <tr>\n",
       "      <th>1</th>\n",
       "      <td>Average Weekly Passengers</td>\n",
       "      <td>1.65</td>\n",
       "    </tr>\n",
       "  </tbody>\n",
       "</table>\n",
       "</div>"
      ],
      "text/plain": [
       "                    Features    VIF\n",
       "5           Average LPA Fare  38.51\n",
       "3           Average MLA Fare  36.93\n",
       "2           Market Share MLA   8.18\n",
       "0                   Distance   6.52\n",
       "4           Market Share LPA   4.31\n",
       "1  Average Weekly Passengers   1.65"
      ]
     },
     "execution_count": 31,
     "metadata": {},
     "output_type": "execute_result"
    }
   ],
   "source": [
    "# Calculate the VIFs for the new model\n",
    "from statsmodels.stats.outliers_influence import variance_inflation_factor\n",
    "\n",
    "vif = pd.DataFrame()\n",
    "X = X_train\n",
    "vif['Features'] = X.columns\n",
    "vif['VIF'] = [variance_inflation_factor(X.values, i) for i in range(X.shape[1])]\n",
    "vif['VIF'] = round(vif['VIF'], 2)\n",
    "vif = vif.sort_values(by = \"VIF\", ascending = False)\n",
    "vif"
   ]
  },
  {
   "cell_type": "code",
   "execution_count": 32,
   "metadata": {
    "colab": {},
    "colab_type": "code",
    "id": "pwUeP3DnQ28E"
   },
   "outputs": [],
   "source": [
    "# Average lPA fare has highest VIF, dropping it and checking results"
   ]
  },
  {
   "cell_type": "code",
   "execution_count": 33,
   "metadata": {
    "colab": {},
    "colab_type": "code",
    "id": "_9uKAH1aQ28G"
   },
   "outputs": [],
   "source": [
    "X_new2 = X.drop('Average LPA Fare', 1)"
   ]
  },
  {
   "cell_type": "code",
   "execution_count": 34,
   "metadata": {
    "colab": {},
    "colab_type": "code",
    "id": "f9Gq7wQXQ28J",
    "outputId": "c6fa3cf0-0e84-4823-b63e-d216a92fb235"
   },
   "outputs": [
    {
     "data": {
      "text/html": [
       "<div>\n",
       "<style scoped>\n",
       "    .dataframe tbody tr th:only-of-type {\n",
       "        vertical-align: middle;\n",
       "    }\n",
       "\n",
       "    .dataframe tbody tr th {\n",
       "        vertical-align: top;\n",
       "    }\n",
       "\n",
       "    .dataframe thead th {\n",
       "        text-align: right;\n",
       "    }\n",
       "</style>\n",
       "<table border=\"1\" class=\"dataframe\">\n",
       "  <thead>\n",
       "    <tr style=\"text-align: right;\">\n",
       "      <th></th>\n",
       "      <th>Distance</th>\n",
       "      <th>Average Weekly Passengers</th>\n",
       "      <th>Market Share MLA</th>\n",
       "      <th>Average MLA Fare</th>\n",
       "      <th>Market Share LPA</th>\n",
       "    </tr>\n",
       "  </thead>\n",
       "  <tbody>\n",
       "    <tr>\n",
       "      <th>278</th>\n",
       "      <td>552</td>\n",
       "      <td>251.84</td>\n",
       "      <td>56.58</td>\n",
       "      <td>135.33</td>\n",
       "      <td>25.03</td>\n",
       "    </tr>\n",
       "    <tr>\n",
       "      <th>218</th>\n",
       "      <td>1197</td>\n",
       "      <td>593.04</td>\n",
       "      <td>68.85</td>\n",
       "      <td>178.74</td>\n",
       "      <td>12.37</td>\n",
       "    </tr>\n",
       "    <tr>\n",
       "      <th>909</th>\n",
       "      <td>647</td>\n",
       "      <td>959.78</td>\n",
       "      <td>60.50</td>\n",
       "      <td>110.14</td>\n",
       "      <td>37.39</td>\n",
       "    </tr>\n",
       "    <tr>\n",
       "      <th>718</th>\n",
       "      <td>2217</td>\n",
       "      <td>1002.50</td>\n",
       "      <td>36.21</td>\n",
       "      <td>245.95</td>\n",
       "      <td>16.87</td>\n",
       "    </tr>\n",
       "    <tr>\n",
       "      <th>111</th>\n",
       "      <td>868</td>\n",
       "      <td>461.41</td>\n",
       "      <td>48.73</td>\n",
       "      <td>133.15</td>\n",
       "      <td>39.81</td>\n",
       "    </tr>\n",
       "  </tbody>\n",
       "</table>\n",
       "</div>"
      ],
      "text/plain": [
       "     Distance  Average Weekly Passengers  Market Share MLA  Average MLA Fare  \\\n",
       "278       552                     251.84             56.58            135.33   \n",
       "218      1197                     593.04             68.85            178.74   \n",
       "909       647                     959.78             60.50            110.14   \n",
       "718      2217                    1002.50             36.21            245.95   \n",
       "111       868                     461.41             48.73            133.15   \n",
       "\n",
       "     Market Share LPA  \n",
       "278             25.03  \n",
       "218             12.37  \n",
       "909             37.39  \n",
       "718             16.87  \n",
       "111             39.81  "
      ]
     },
     "execution_count": 34,
     "metadata": {},
     "output_type": "execute_result"
    }
   ],
   "source": [
    "X_new2.head()"
   ]
  },
  {
   "cell_type": "code",
   "execution_count": 35,
   "metadata": {
    "colab": {},
    "colab_type": "code",
    "id": "jRX3FqR9Q28O"
   },
   "outputs": [],
   "source": [
    "X_train_lm = sm.add_constant(X_new2)\n",
    "\n",
    "lr_4 = sm.OLS(y_train, X_train_lm).fit()"
   ]
  },
  {
   "cell_type": "code",
   "execution_count": 36,
   "metadata": {
    "colab": {},
    "colab_type": "code",
    "id": "tttya0kMQ28T",
    "outputId": "2efb2c12-bd5f-4f0e-b9bd-26eaecdcb814"
   },
   "outputs": [
    {
     "name": "stdout",
     "output_type": "stream",
     "text": [
      "                             OLS Regression Results                            \n",
      "===============================================================================\n",
      "Dep. Variable:     Average Flight Fare   R-squared:                       0.964\n",
      "Model:                             OLS   Adj. R-squared:                  0.964\n",
      "Method:                  Least Squares   F-statistic:                     3762.\n",
      "Date:                 Thu, 07 Apr 2022   Prob (F-statistic):               0.00\n",
      "Time:                         23:37:38   Log-Likelihood:                -2648.1\n",
      "No. Observations:                  699   AIC:                             5308.\n",
      "Df Residuals:                      693   BIC:                             5336.\n",
      "Df Model:                            5                                         \n",
      "Covariance Type:             nonrobust                                         \n",
      "=============================================================================================\n",
      "                                coef    std err          t      P>|t|      [0.025      0.975]\n",
      "---------------------------------------------------------------------------------------------\n",
      "const                        20.6307      2.375      8.687      0.000      15.968      25.294\n",
      "Distance                      0.0046      0.001      5.169      0.000       0.003       0.006\n",
      "Average Weekly Passengers    -0.0018      0.001     -3.504      0.000      -0.003      -0.001\n",
      "Market Share MLA             -0.0159      0.026     -0.620      0.535      -0.066       0.034\n",
      "Average MLA Fare              0.8347      0.008    100.712      0.000       0.818       0.851\n",
      "Market Share LPA              0.0297      0.018      1.693      0.091      -0.005       0.064\n",
      "==============================================================================\n",
      "Omnibus:                       99.327   Durbin-Watson:                   2.105\n",
      "Prob(Omnibus):                  0.000   Jarque-Bera (JB):              769.458\n",
      "Skew:                          -0.348   Prob(JB):                    8.21e-168\n",
      "Kurtosis:                       8.093   Cond. No.                     8.46e+03\n",
      "==============================================================================\n",
      "\n",
      "Notes:\n",
      "[1] Standard Errors assume that the covariance matrix of the errors is correctly specified.\n",
      "[2] The condition number is large, 8.46e+03. This might indicate that there are\n",
      "strong multicollinearity or other numerical problems.\n"
     ]
    }
   ],
   "source": [
    "print(lr_4.summary())"
   ]
  },
  {
   "cell_type": "code",
   "execution_count": 37,
   "metadata": {
    "colab": {},
    "colab_type": "code",
    "id": "CrY0fmyhQ28V",
    "outputId": "35fbf305-b50e-437a-a754-cb8096b5d77b"
   },
   "outputs": [
    {
     "data": {
      "text/html": [
       "<div>\n",
       "<style scoped>\n",
       "    .dataframe tbody tr th:only-of-type {\n",
       "        vertical-align: middle;\n",
       "    }\n",
       "\n",
       "    .dataframe tbody tr th {\n",
       "        vertical-align: top;\n",
       "    }\n",
       "\n",
       "    .dataframe thead th {\n",
       "        text-align: right;\n",
       "    }\n",
       "</style>\n",
       "<table border=\"1\" class=\"dataframe\">\n",
       "  <thead>\n",
       "    <tr style=\"text-align: right;\">\n",
       "      <th></th>\n",
       "      <th>Features</th>\n",
       "      <th>VIF</th>\n",
       "    </tr>\n",
       "  </thead>\n",
       "  <tbody>\n",
       "    <tr>\n",
       "      <th>3</th>\n",
       "      <td>Average MLA Fare</td>\n",
       "      <td>11.73</td>\n",
       "    </tr>\n",
       "    <tr>\n",
       "      <th>2</th>\n",
       "      <td>Market Share MLA</td>\n",
       "      <td>8.13</td>\n",
       "    </tr>\n",
       "    <tr>\n",
       "      <th>0</th>\n",
       "      <td>Distance</td>\n",
       "      <td>5.97</td>\n",
       "    </tr>\n",
       "    <tr>\n",
       "      <th>4</th>\n",
       "      <td>Market Share LPA</td>\n",
       "      <td>3.32</td>\n",
       "    </tr>\n",
       "    <tr>\n",
       "      <th>1</th>\n",
       "      <td>Average Weekly Passengers</td>\n",
       "      <td>1.65</td>\n",
       "    </tr>\n",
       "  </tbody>\n",
       "</table>\n",
       "</div>"
      ],
      "text/plain": [
       "                    Features    VIF\n",
       "3           Average MLA Fare  11.73\n",
       "2           Market Share MLA   8.13\n",
       "0                   Distance   5.97\n",
       "4           Market Share LPA   3.32\n",
       "1  Average Weekly Passengers   1.65"
      ]
     },
     "execution_count": 37,
     "metadata": {},
     "output_type": "execute_result"
    }
   ],
   "source": [
    "# Calculate the VIFs for the new model\n",
    "from statsmodels.stats.outliers_influence import variance_inflation_factor\n",
    "\n",
    "vif = pd.DataFrame()\n",
    "X = X_new2\n",
    "vif['Features'] = X.columns\n",
    "vif['VIF'] = [variance_inflation_factor(X.values, i) for i in range(X.shape[1])]\n",
    "vif['VIF'] = round(vif['VIF'], 2)\n",
    "vif = vif.sort_values(by = \"VIF\", ascending = False)\n",
    "vif"
   ]
  },
  {
   "cell_type": "code",
   "execution_count": 38,
   "metadata": {
    "colab": {},
    "colab_type": "code",
    "id": "TfnwIimpQ28Y"
   },
   "outputs": [],
   "source": [
    "# Market Share has a high p value and a High VIF\n",
    "X_new2 = X.drop('Market Share MLA', 1)"
   ]
  },
  {
   "cell_type": "code",
   "execution_count": 39,
   "metadata": {
    "colab": {},
    "colab_type": "code",
    "id": "XQh7T7IOQ28c",
    "outputId": "d805e9a1-6b8a-4099-e740-988082e55744"
   },
   "outputs": [
    {
     "data": {
      "text/html": [
       "<div>\n",
       "<style scoped>\n",
       "    .dataframe tbody tr th:only-of-type {\n",
       "        vertical-align: middle;\n",
       "    }\n",
       "\n",
       "    .dataframe tbody tr th {\n",
       "        vertical-align: top;\n",
       "    }\n",
       "\n",
       "    .dataframe thead th {\n",
       "        text-align: right;\n",
       "    }\n",
       "</style>\n",
       "<table border=\"1\" class=\"dataframe\">\n",
       "  <thead>\n",
       "    <tr style=\"text-align: right;\">\n",
       "      <th></th>\n",
       "      <th>Distance</th>\n",
       "      <th>Average Weekly Passengers</th>\n",
       "      <th>Average MLA Fare</th>\n",
       "      <th>Market Share LPA</th>\n",
       "    </tr>\n",
       "  </thead>\n",
       "  <tbody>\n",
       "    <tr>\n",
       "      <th>278</th>\n",
       "      <td>552</td>\n",
       "      <td>251.84</td>\n",
       "      <td>135.33</td>\n",
       "      <td>25.03</td>\n",
       "    </tr>\n",
       "    <tr>\n",
       "      <th>218</th>\n",
       "      <td>1197</td>\n",
       "      <td>593.04</td>\n",
       "      <td>178.74</td>\n",
       "      <td>12.37</td>\n",
       "    </tr>\n",
       "    <tr>\n",
       "      <th>909</th>\n",
       "      <td>647</td>\n",
       "      <td>959.78</td>\n",
       "      <td>110.14</td>\n",
       "      <td>37.39</td>\n",
       "    </tr>\n",
       "    <tr>\n",
       "      <th>718</th>\n",
       "      <td>2217</td>\n",
       "      <td>1002.50</td>\n",
       "      <td>245.95</td>\n",
       "      <td>16.87</td>\n",
       "    </tr>\n",
       "    <tr>\n",
       "      <th>111</th>\n",
       "      <td>868</td>\n",
       "      <td>461.41</td>\n",
       "      <td>133.15</td>\n",
       "      <td>39.81</td>\n",
       "    </tr>\n",
       "  </tbody>\n",
       "</table>\n",
       "</div>"
      ],
      "text/plain": [
       "     Distance  Average Weekly Passengers  Average MLA Fare  Market Share LPA\n",
       "278       552                     251.84            135.33             25.03\n",
       "218      1197                     593.04            178.74             12.37\n",
       "909       647                     959.78            110.14             37.39\n",
       "718      2217                    1002.50            245.95             16.87\n",
       "111       868                     461.41            133.15             39.81"
      ]
     },
     "execution_count": 39,
     "metadata": {},
     "output_type": "execute_result"
    }
   ],
   "source": [
    "X_new2.head()"
   ]
  },
  {
   "cell_type": "code",
   "execution_count": 40,
   "metadata": {
    "colab": {},
    "colab_type": "code",
    "id": "qqKGXkUTQ28e"
   },
   "outputs": [],
   "source": [
    "X_train_lm = sm.add_constant(X_new2)\n",
    "\n",
    "lr_4 = sm.OLS(y_train, X_train_lm).fit()"
   ]
  },
  {
   "cell_type": "code",
   "execution_count": 41,
   "metadata": {
    "colab": {},
    "colab_type": "code",
    "id": "TxHSTXOqQ28h",
    "outputId": "351d979e-1f52-440b-8ce1-1f73682edcec"
   },
   "outputs": [
    {
     "name": "stdout",
     "output_type": "stream",
     "text": [
      "                             OLS Regression Results                            \n",
      "===============================================================================\n",
      "Dep. Variable:     Average Flight Fare   R-squared:                       0.964\n",
      "Model:                             OLS   Adj. R-squared:                  0.964\n",
      "Method:                  Least Squares   F-statistic:                     4707.\n",
      "Date:                 Thu, 07 Apr 2022   Prob (F-statistic):               0.00\n",
      "Time:                         23:37:38   Log-Likelihood:                -2648.3\n",
      "No. Observations:                  699   AIC:                             5307.\n",
      "Df Residuals:                      694   BIC:                             5329.\n",
      "Df Model:                            4                                         \n",
      "Covariance Type:             nonrobust                                         \n",
      "=============================================================================================\n",
      "                                coef    std err          t      P>|t|      [0.025      0.975]\n",
      "---------------------------------------------------------------------------------------------\n",
      "const                        19.6031      1.701     11.527      0.000      16.264      22.942\n",
      "Distance                      0.0048      0.001      6.334      0.000       0.003       0.006\n",
      "Average Weekly Passengers    -0.0018      0.001     -3.454      0.001      -0.003      -0.001\n",
      "Average MLA Fare              0.8337      0.008    102.358      0.000       0.818       0.850\n",
      "Market Share LPA              0.0272      0.017      1.594      0.112      -0.006       0.061\n",
      "==============================================================================\n",
      "Omnibus:                       95.966   Durbin-Watson:                   2.104\n",
      "Prob(Omnibus):                  0.000   Jarque-Bera (JB):              753.683\n",
      "Skew:                          -0.308   Prob(JB):                    2.19e-164\n",
      "Kurtosis:                       8.049   Cond. No.                     6.05e+03\n",
      "==============================================================================\n",
      "\n",
      "Notes:\n",
      "[1] Standard Errors assume that the covariance matrix of the errors is correctly specified.\n",
      "[2] The condition number is large, 6.05e+03. This might indicate that there are\n",
      "strong multicollinearity or other numerical problems.\n"
     ]
    }
   ],
   "source": [
    "print(lr_4.summary())"
   ]
  },
  {
   "cell_type": "code",
   "execution_count": 42,
   "metadata": {
    "colab": {},
    "colab_type": "code",
    "id": "DoVeS_6DQ28l",
    "outputId": "352d6c43-91d7-4477-ad73-86b748597364"
   },
   "outputs": [
    {
     "data": {
      "text/html": [
       "<div>\n",
       "<style scoped>\n",
       "    .dataframe tbody tr th:only-of-type {\n",
       "        vertical-align: middle;\n",
       "    }\n",
       "\n",
       "    .dataframe tbody tr th {\n",
       "        vertical-align: top;\n",
       "    }\n",
       "\n",
       "    .dataframe thead th {\n",
       "        text-align: right;\n",
       "    }\n",
       "</style>\n",
       "<table border=\"1\" class=\"dataframe\">\n",
       "  <thead>\n",
       "    <tr style=\"text-align: right;\">\n",
       "      <th></th>\n",
       "      <th>Features</th>\n",
       "      <th>VIF</th>\n",
       "    </tr>\n",
       "  </thead>\n",
       "  <tbody>\n",
       "    <tr>\n",
       "      <th>2</th>\n",
       "      <td>Average MLA Fare</td>\n",
       "      <td>6.59</td>\n",
       "    </tr>\n",
       "    <tr>\n",
       "      <th>0</th>\n",
       "      <td>Distance</td>\n",
       "      <td>5.43</td>\n",
       "    </tr>\n",
       "    <tr>\n",
       "      <th>3</th>\n",
       "      <td>Market Share LPA</td>\n",
       "      <td>1.81</td>\n",
       "    </tr>\n",
       "    <tr>\n",
       "      <th>1</th>\n",
       "      <td>Average Weekly Passengers</td>\n",
       "      <td>1.63</td>\n",
       "    </tr>\n",
       "  </tbody>\n",
       "</table>\n",
       "</div>"
      ],
      "text/plain": [
       "                    Features   VIF\n",
       "2           Average MLA Fare  6.59\n",
       "0                   Distance  5.43\n",
       "3           Market Share LPA  1.81\n",
       "1  Average Weekly Passengers  1.63"
      ]
     },
     "execution_count": 42,
     "metadata": {},
     "output_type": "execute_result"
    }
   ],
   "source": [
    "# Calculate the VIFs for the new model\n",
    "from statsmodels.stats.outliers_influence import variance_inflation_factor\n",
    "\n",
    "vif = pd.DataFrame()\n",
    "X = X_new2\n",
    "vif['Features'] = X.columns\n",
    "vif['VIF'] = [variance_inflation_factor(X.values, i) for i in range(X.shape[1])]\n",
    "vif['VIF'] = round(vif['VIF'], 2)\n",
    "vif = vif.sort_values(by = \"VIF\", ascending = False)\n",
    "vif"
   ]
  },
  {
   "cell_type": "code",
   "execution_count": null,
   "metadata": {
    "colab": {},
    "colab_type": "code",
    "id": "_C39c5q8Q28n"
   },
   "outputs": [],
   "source": []
  },
  {
   "cell_type": "code",
   "execution_count": null,
   "metadata": {
    "colab": {},
    "colab_type": "code",
    "id": "jrE06n63Q28p"
   },
   "outputs": [],
   "source": []
  },
  {
   "cell_type": "code",
   "execution_count": 43,
   "metadata": {
    "colab": {},
    "colab_type": "code",
    "id": "oap0PgJ4Q28q"
   },
   "outputs": [],
   "source": [
    "# Market Share LPA has a high p value\n",
    "X_new3 = X.drop('Market Share LPA', 1)"
   ]
  },
  {
   "cell_type": "code",
   "execution_count": 44,
   "metadata": {
    "colab": {},
    "colab_type": "code",
    "id": "Nr2TfpgNQ28y"
   },
   "outputs": [],
   "source": [
    "X_train_lm = sm.add_constant(X_new3)\n",
    "\n",
    "lr_4 = sm.OLS(y_train, X_train_lm).fit()"
   ]
  },
  {
   "cell_type": "code",
   "execution_count": 45,
   "metadata": {
    "colab": {},
    "colab_type": "code",
    "id": "C7ViSl1wQ281",
    "outputId": "0314f092-f99c-4bbf-b5c8-3d34ac698cfb"
   },
   "outputs": [
    {
     "name": "stdout",
     "output_type": "stream",
     "text": [
      "                             OLS Regression Results                            \n",
      "===============================================================================\n",
      "Dep. Variable:     Average Flight Fare   R-squared:                       0.964\n",
      "Model:                             OLS   Adj. R-squared:                  0.964\n",
      "Method:                  Least Squares   F-statistic:                     6261.\n",
      "Date:                 Thu, 07 Apr 2022   Prob (F-statistic):               0.00\n",
      "Time:                         23:37:38   Log-Likelihood:                -2649.6\n",
      "No. Observations:                  699   AIC:                             5307.\n",
      "Df Residuals:                      695   BIC:                             5325.\n",
      "Df Model:                            3                                         \n",
      "Covariance Type:             nonrobust                                         \n",
      "=============================================================================================\n",
      "                                coef    std err          t      P>|t|      [0.025      0.975]\n",
      "---------------------------------------------------------------------------------------------\n",
      "const                        21.4885      1.223     17.573      0.000      19.088      23.889\n",
      "Distance                      0.0046      0.001      6.158      0.000       0.003       0.006\n",
      "Average Weekly Passengers    -0.0018      0.001     -3.453      0.001      -0.003      -0.001\n",
      "Average MLA Fare              0.8294      0.008    107.874      0.000       0.814       0.845\n",
      "==============================================================================\n",
      "Omnibus:                       90.256   Durbin-Watson:                   2.098\n",
      "Prob(Omnibus):                  0.000   Jarque-Bera (JB):              700.499\n",
      "Skew:                          -0.252   Prob(JB):                    7.74e-153\n",
      "Kurtosis:                       7.878   Cond. No.                     4.35e+03\n",
      "==============================================================================\n",
      "\n",
      "Notes:\n",
      "[1] Standard Errors assume that the covariance matrix of the errors is correctly specified.\n",
      "[2] The condition number is large, 4.35e+03. This might indicate that there are\n",
      "strong multicollinearity or other numerical problems.\n"
     ]
    }
   ],
   "source": [
    "print(lr_4.summary())"
   ]
  },
  {
   "cell_type": "code",
   "execution_count": 46,
   "metadata": {
    "colab": {},
    "colab_type": "code",
    "id": "Xv2b39ynQ283",
    "outputId": "4906290d-757f-420c-9c63-ddccd1815e1b"
   },
   "outputs": [
    {
     "data": {
      "text/html": [
       "<div>\n",
       "<style scoped>\n",
       "    .dataframe tbody tr th:only-of-type {\n",
       "        vertical-align: middle;\n",
       "    }\n",
       "\n",
       "    .dataframe tbody tr th {\n",
       "        vertical-align: top;\n",
       "    }\n",
       "\n",
       "    .dataframe thead th {\n",
       "        text-align: right;\n",
       "    }\n",
       "</style>\n",
       "<table border=\"1\" class=\"dataframe\">\n",
       "  <thead>\n",
       "    <tr style=\"text-align: right;\">\n",
       "      <th></th>\n",
       "      <th>Features</th>\n",
       "      <th>VIF</th>\n",
       "    </tr>\n",
       "  </thead>\n",
       "  <tbody>\n",
       "    <tr>\n",
       "      <th>2</th>\n",
       "      <td>Average MLA Fare</td>\n",
       "      <td>5.95</td>\n",
       "    </tr>\n",
       "    <tr>\n",
       "      <th>0</th>\n",
       "      <td>Distance</td>\n",
       "      <td>5.40</td>\n",
       "    </tr>\n",
       "    <tr>\n",
       "      <th>1</th>\n",
       "      <td>Average Weekly Passengers</td>\n",
       "      <td>1.51</td>\n",
       "    </tr>\n",
       "  </tbody>\n",
       "</table>\n",
       "</div>"
      ],
      "text/plain": [
       "                    Features   VIF\n",
       "2           Average MLA Fare  5.95\n",
       "0                   Distance  5.40\n",
       "1  Average Weekly Passengers  1.51"
      ]
     },
     "execution_count": 46,
     "metadata": {},
     "output_type": "execute_result"
    }
   ],
   "source": [
    "# Calculate the VIFs for the new model\n",
    "from statsmodels.stats.outliers_influence import variance_inflation_factor\n",
    "\n",
    "vif = pd.DataFrame()\n",
    "X = X_new3\n",
    "vif['Features'] = X.columns\n",
    "vif['VIF'] = [variance_inflation_factor(X.values, i) for i in range(X.shape[1])]\n",
    "vif['VIF'] = round(vif['VIF'], 2)\n",
    "vif = vif.sort_values(by = \"VIF\", ascending = False)\n",
    "vif"
   ]
  },
  {
   "cell_type": "markdown",
   "metadata": {
    "colab_type": "text",
    "id": "M5RKFMNoQ289"
   },
   "source": [
    "##### Average MLA fare is the single most important feature. \n",
    "##### Distance and Average Weekly Passengers are important to some extent"
   ]
  },
  {
   "cell_type": "code",
   "execution_count": null,
   "metadata": {
    "colab": {},
    "colab_type": "code",
    "id": "0h83pvUTQ289"
   },
   "outputs": [],
   "source": []
  },
  {
   "cell_type": "markdown",
   "metadata": {
    "colab_type": "text",
    "id": "KvmkBpkvQ28_"
   },
   "source": [
    "### 4.2.4. Residual Analysis"
   ]
  },
  {
   "cell_type": "code",
   "execution_count": 47,
   "metadata": {
    "colab": {},
    "colab_type": "code",
    "id": "H1GoNBUhQ28_"
   },
   "outputs": [],
   "source": [
    "y_train_price = lr_4.predict(X_train_lm)"
   ]
  },
  {
   "cell_type": "code",
   "execution_count": 48,
   "metadata": {
    "colab": {},
    "colab_type": "code",
    "id": "YxonghDCQ29C",
    "outputId": "64db4db5-af0b-43be-82cf-86f6a39806df"
   },
   "outputs": [
    {
     "name": "stderr",
     "output_type": "stream",
     "text": [
      "C:\\Users\\sahil\\anaconda3\\lib\\site-packages\\seaborn\\distributions.py:2557: FutureWarning: `distplot` is a deprecated function and will be removed in a future version. Please adapt your code to use either `displot` (a figure-level function with similar flexibility) or `histplot` (an axes-level function for histograms).\n",
      "  warnings.warn(msg, FutureWarning)\n"
     ]
    },
    {
     "data": {
      "text/plain": [
       "Text(0.5, 0, 'Errors')"
      ]
     },
     "execution_count": 48,
     "metadata": {},
     "output_type": "execute_result"
    },
    {
     "data": {
      "image/png": "[encoded data removed]",
      "text/plain": [
       "<Figure size 432x288 with 1 Axes>"
      ]
     },
     "metadata": {
      "needs_background": "light"
     },
     "output_type": "display_data"
    }
   ],
   "source": [
    "# Plot the histogram of the error terms\n",
    "fig = plt.figure()\n",
    "sns.distplot((y_train - y_train_price), bins = 20)\n",
    "fig.suptitle('Error Terms', fontsize = 20)                  # Plot heading \n",
    "plt.xlabel('Errors', fontsize = 18)                         # X-label"
   ]
  },
  {
   "cell_type": "code",
   "execution_count": 49,
   "metadata": {
    "colab": {},
    "colab_type": "code",
    "id": "guDzVErBQ29E"
   },
   "outputs": [],
   "source": [
    "#### Error Terms are normally distributed - hence prediction can be made"
   ]
  },
  {
   "cell_type": "markdown",
   "metadata": {
    "colab_type": "text",
    "id": "aanoLRCJQ29H"
   },
   "source": [
    "### 4.2.5. Making prediction using final model"
   ]
  },
  {
   "cell_type": "code",
   "execution_count": 50,
   "metadata": {
    "colab": {},
    "colab_type": "code",
    "id": "xbf4UcI9Q29H",
    "outputId": "dabb995c-37f1-47a3-9e2f-957f07d61597"
   },
   "outputs": [],
   "source": [
    "num_vars = ['Average Flight Fare', 'Distance','Average Weekly Passengers',\n",
    "               'Market Share MLA', 'Average MLA Fare', 'Market Share LPA', 'Average LPA Fare']\n",
    "\n",
    "file_test[num_vars] = scaler.transform(file_test[num_vars])"
   ]
  },
  {
   "cell_type": "code",
   "execution_count": 51,
   "metadata": {
    "colab": {},
    "colab_type": "code",
    "id": "fSgeVHm9Q29J"
   },
   "outputs": [],
   "source": [
    "y_test = file_test.pop('Average Flight Fare')\n",
    "X_test = file_test"
   ]
  },
  {
   "cell_type": "code",
   "execution_count": 52,
   "metadata": {
    "colab": {},
    "colab_type": "code",
    "id": "yvWrBsm_Q29L"
   },
   "outputs": [],
   "source": [
    "# Adding constant variable to test dataframe\n",
    "X_test_m4 = sm.add_constant(X_test)"
   ]
  },
  {
   "cell_type": "code",
   "execution_count": 53,
   "metadata": {
    "colab": {},
    "colab_type": "code",
    "id": "ufGL16zTQ29M"
   },
   "outputs": [],
   "source": [
    "X_test_m4 = X_test_m4.drop([\"Market Share MLA\", \"Market Share LPA\", \"Average LPA Fare\"], axis = 1)"
   ]
  },
  {
   "cell_type": "code",
   "execution_count": 54,
   "metadata": {
    "colab": {},
    "colab_type": "code",
    "id": "BwqnomIlQ29P"
   },
   "outputs": [],
   "source": [
    "y_pred_m4 = lr_4.predict(X_test_m4)"
   ]
  },
  {
   "cell_type": "code",
   "execution_count": 55,
   "metadata": {
    "colab": {},
    "colab_type": "code",
    "id": "BJdNtrmUQ29R",
    "outputId": "4efe4519-fe95-462c-91a5-f886e4070c74"
   },
   "outputs": [
    {
     "data": {
      "text/plain": [
       "Text(0, 0.5, 'y_pred')"
      ]
     },
     "execution_count": 55,
     "metadata": {},
     "output_type": "execute_result"
    },
    {
     "data": {
      "image/png": "[encoded data removed]",
      "text/plain": [
       "<Figure size 432x288 with 1 Axes>"
      ]
     },
     "metadata": {
      "needs_background": "light"
     },
     "output_type": "display_data"
    }
   ],
   "source": [
    "# Plotting y_test and y_pred to understand the spread\n",
    "\n",
    "fig = plt.figure()\n",
    "plt.scatter(y_test, y_pred_m4)\n",
    "fig.suptitle('y_test vs y_pred', fontsize = 20)              # Plot heading \n",
    "plt.xlabel('y_test', fontsize = 18)                          # X-label\n",
    "plt.ylabel('y_pred', fontsize = 16)  "
   ]
  },
  {
   "cell_type": "code",
   "execution_count": 56,
   "metadata": {
    "colab": {},
    "colab_type": "code",
    "id": "psMFj8wmQ29W",
    "outputId": "03d737b0-c583-419b-85e6-5d517725f66c"
   },
   "outputs": [
    {
     "data": {
      "text/plain": [
       "0.9059274382628867"
      ]
     },
     "execution_count": 56,
     "metadata": {},
     "output_type": "execute_result"
    }
   ],
   "source": [
    "from sklearn import metrics\n",
    "metrics.explained_variance_score(y_test, y_pred_m4)"
   ]
  },
  {
   "cell_type": "markdown",
   "metadata": {
    "colab_type": "text",
    "id": "jYVwo5UGQ29Y"
   },
   "source": [
    "####  Model is able to explain 90% + of variance in test data  & 96% + variance in train data\n"
   ]
  },
  {
   "cell_type": "code",
   "execution_count": null,
   "metadata": {
    "colab": {},
    "colab_type": "code",
    "id": "g9SqLi5AQ29Z",
    "outputId": "3fae22d0-e9c9-4975-a65b-71452de10287"
   },
   "outputs": [],
   "source": []
  },
  {
   "cell_type": "code",
   "execution_count": null,
   "metadata": {
    "colab": {},
    "colab_type": "code",
    "id": "3GlyI_VHQ29c",
    "outputId": "f04729b6-4ced-4a65-a644-6e7ce111dfe0"
   },
   "outputs": [],
   "source": []
  },
  {
   "cell_type": "markdown",
   "metadata": {
    "colab_type": "text",
    "id": "O2ynwfFyQ29i"
   },
   "source": [
    "# 5. Other Models that can be applied"
   ]
  },
  {
   "cell_type": "markdown",
   "metadata": {
    "colab_type": "text",
    "id": "A-yhjVO7Q29j"
   },
   "source": [
    "##### 1. Polynomian Regression to capture non linearity in data\n",
    "##### 2. Decision Tree with Regression at nodes (ensemble model)\n"
   ]
  },
  {
   "cell_type": "markdown",
   "metadata": {
    "colab_type": "text",
    "id": "BZXyfdALQ29j"
   },
   "source": [
    "# 6. Other ways of improving data:\n",
    "    \n",
    "    "
   ]
  },
  {
   "cell_type": "markdown",
   "metadata": {
    "colab_type": "text",
    "id": "NJvxGAp_Q29k"
   },
   "source": [
    "##### 1. Better independent variables can be derived. Some independent variables include:\n",
    "        a. Average MlA Fare / Distance b. Average LPA Fare / Distance c. Average MLA fare / Number of passengers d. Average \n",
    "            LPA fare / Number of passengers\n",
    "##### 2. Completely new dependent variables can be introduced like:\n",
    "        b. Number of flights plying on each route \n",
    "\n",
    "##### 3. PCA can identify better independent variable with minimum co-relation\n",
    "\n"
   ]
  },
  {
   "cell_type": "markdown",
   "metadata": {
    "colab_type": "text",
    "id": "S4s8olrsQ29l"
   },
   "source": [
    "# 7. Conclusion"
   ]
  },
  {
   "cell_type": "markdown",
   "metadata": {
    "colab_type": "text",
    "id": "HccJt74eQ29l"
   },
   "source": [
    "##### 1. As for Multivariate Analysis, Average MLA Fare is the most important independent variable. \n",
    "##### 2. Distance and Average Weekly passenger count also effect Flight charges\n",
    "##### 3. Multivariate analysis gives decent modl with more than 90% R2 on test data set\n",
    "##### 4. Accuracy (read R2) can be improved further using features explained above (using alternated model or adding more variables)\n",
    "##### 5. Transformations like log can improve model accuracy slightly but still effect of Average MLA stays most significant\n",
    "\n",
    "#### Understanding from EDA:\n",
    "\n",
    "##### 1. Most of the flight fare lie between 100 to 300 with some outliers\n",
    "##### 2. Average distance ranges between 500 to 2500\n",
    "##### 3. Most of the time Average Weekly Passenger numer is less than 2000 but there are large number of outliers  \n",
    "##### 4. Average fare of both Market Leader and Low Price Airline range from 100 to 300 with some outliers\n",
    "##### 5. Market Leader has 40 to 80 percent market share on most routes\n",
    "##### 6. Lower Price airline has less than 40 percent market share on most of the routes\n",
    "##### 7. Most flights have comparable median flight fare with some having very low values\n",
    "##### 8. Flight fare of market leading airline and Low Price airline seem to fall in similar range"
   ]
  },
  {
   "cell_type": "code",
   "execution_count": null,
   "metadata": {
    "colab": {},
    "colab_type": "code",
    "id": "XmKi7RRuQ29m"
   },
   "outputs": [],
   "source": []
  }
 ],
 "metadata": {
  "colab": {
   "name": "Airline Fare Analysis Case Study- Linear Regression.ipynb",
   "provenance": [],
   "version": "0.3.2"
  },
  "kernelspec": {
   "display_name": "Python 3 (ipykernel)",
   "language": "python",
   "name": "python3"
  },
  "language_info": {
   "codemirror_mode": {
    "name": "ipython",
    "version": 3
   },
   "file_extension": ".py",
   "mimetype": "text/x-python",
   "name": "python",
   "nbconvert_exporter": "python",
   "pygments_lexer": "ipython3",
   "version": "3.9.12"
  }
 },
 "nbformat": 4,
 "nbformat_minor": 1
}
